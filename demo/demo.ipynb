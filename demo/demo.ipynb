{
 "cells": [
  {
   "cell_type": "markdown",
   "metadata": {},
   "source": [
    "# MUBen: Usage Demonstration"
   ]
  },
  {
   "cell_type": "markdown",
   "metadata": {},
   "source": [
    "In this demonstration, we'll guide you through a foundational training and testing of MUBen using the BBBP dataset as a basic example.\n",
    "We've chosen the DNN as our backbone model because it is both efficient and offers satisfactory performance.\n",
    "For uncertainty quantification (UQ), we'll evaluate both the Deterministic method (referred to as \"none\" within MUBen) and Temperature Scaling.\n",
    "While the procedures for other backbone models, UQ methods, or datasets are largely similar, you can explore specific variations by referring to the scripts in the `<project root>/run/` directory."
   ]
  },
  {
   "cell_type": "code",
   "execution_count": 1,
   "metadata": {},
   "outputs": [],
   "source": [
    "# Import the necessary packages\n",
    "import sys\n",
    "sys.path.append('../')\n",
    "import logging\n",
    "import wandb\n",
    "from transformers import set_seed\n",
    "\n",
    "from muben.dnn.dataset import Dataset\n",
    "from muben.dnn.args import Config\n",
    "from muben.dnn.train import Trainer\n",
    "from muben.utils.io import set_logging\n",
    "\n",
    "# initialize logger\n",
    "logger = logging.getLogger(__name__)"
   ]
  },
  {
   "cell_type": "markdown",
   "metadata": {},
   "source": [
    "## Run the Deterministic UQ method"
   ]
  },
  {
   "cell_type": "code",
   "execution_count": 2,
   "metadata": {},
   "outputs": [
    {
     "name": "stderr",
     "output_type": "stream",
     "text": [
      "08/23/2023 17:34:59 - ERROR - wandb.jupyter -   Failed to detect the name of this notebook, you can set it manually with the WANDB_NOTEBOOK_NAME environment variable to enable code saving.\n",
      "08/23/2023 17:34:59 - INFO - muben.base.args -   Configurations: (<class 'muben.dnn.args.Config'>)\n",
      "08/23/2023 17:34:59 - INFO - muben.base.args -     apply_preconditioned_sgld: False\n",
      "08/23/2023 17:34:59 - INFO - muben.base.args -     apply_temperature_scaling_after_focal_loss: False\n",
      "08/23/2023 17:34:59 - INFO - muben.base.args -     apply_wandb: True\n",
      "08/23/2023 17:34:59 - INFO - muben.base.args -     batch_size: 32\n",
      "08/23/2023 17:34:59 - INFO - muben.base.args -     batch_size_inference: None\n",
      "08/23/2023 17:34:59 - INFO - muben.base.args -     bbp_prior_sigma: 0.1\n",
      "08/23/2023 17:34:59 - INFO - muben.base.args -     binary_classification_with_softmax: False\n",
      "08/23/2023 17:34:59 - INFO - muben.base.args -     classes: [0, 1]\n",
      "08/23/2023 17:34:59 - INFO - muben.base.args -     d_dnn_hidden: 128\n",
      "08/23/2023 17:34:59 - INFO - muben.base.args -     d_feature: 200\n",
      "08/23/2023 17:34:59 - INFO - muben.base.args -     data_dir: ../data/files/bbbp\n",
      "08/23/2023 17:34:59 - INFO - muben.base.args -     data_folder: ../data/files/\n",
      "08/23/2023 17:34:59 - INFO - muben.base.args -     data_seed: None\n",
      "08/23/2023 17:34:59 - INFO - muben.base.args -     dataset_name: bbbp\n",
      "08/23/2023 17:34:59 - INFO - muben.base.args -     debug: False\n",
      "08/23/2023 17:34:59 - INFO - muben.base.args -     deploy: False\n",
      "08/23/2023 17:34:59 - INFO - muben.base.args -     device: mps\n",
      "08/23/2023 17:34:59 - INFO - muben.base.args -     disable_dataset_saving: False\n",
      "08/23/2023 17:34:59 - INFO - muben.base.args -     disable_result_saving: False\n",
      "08/23/2023 17:34:59 - INFO - muben.base.args -     disable_wandb: False\n",
      "08/23/2023 17:34:59 - INFO - muben.base.args -     dropout: 0.1\n",
      "08/23/2023 17:34:59 - INFO - muben.base.args -     eval_metric: None\n",
      "08/23/2023 17:34:59 - INFO - muben.base.args -     evidential_clx_loss_annealing_epochs: 10\n",
      "08/23/2023 17:34:59 - INFO - muben.base.args -     evidential_reg_loss_weight: 1\n",
      "08/23/2023 17:34:59 - INFO - muben.base.args -     feature_type: rdkit\n",
      "08/23/2023 17:34:59 - INFO - muben.base.args -     freeze_backbone: False\n",
      "08/23/2023 17:34:59 - INFO - muben.base.args -     grad_norm: 0\n",
      "08/23/2023 17:34:59 - INFO - muben.base.args -     ignore_no_uncertainty_output: False\n",
      "08/23/2023 17:34:59 - INFO - muben.base.args -     ignore_preprocessed_dataset: False\n",
      "08/23/2023 17:34:59 - INFO - muben.base.args -     ignore_uncertainty_output: False\n",
      "08/23/2023 17:34:59 - INFO - muben.base.args -     k_swa_checkpoints: 20\n",
      "08/23/2023 17:34:59 - INFO - muben.base.args -     log_path: None\n",
      "08/23/2023 17:34:59 - INFO - muben.base.args -     lr: 0.0001\n",
      "08/23/2023 17:34:59 - INFO - muben.base.args -     lr_scheduler_type: constant\n",
      "08/23/2023 17:34:59 - INFO - muben.base.args -     model_name: DNN\n",
      "08/23/2023 17:34:59 - INFO - muben.base.args -     n_dnn_hidden_layers: 8\n",
      "08/23/2023 17:34:59 - INFO - muben.base.args -     n_ensembles: 5\n",
      "08/23/2023 17:34:59 - INFO - muben.base.args -     n_epochs: 20\n",
      "08/23/2023 17:34:59 - INFO - muben.base.args -     n_feature_generating_threads: 8\n",
      "08/23/2023 17:34:59 - INFO - muben.base.args -     n_langevin_samples: 30\n",
      "08/23/2023 17:34:59 - INFO - muben.base.args -     n_lbs: 1\n",
      "08/23/2023 17:34:59 - INFO - muben.base.args -     n_swa_epochs: 20\n",
      "08/23/2023 17:34:59 - INFO - muben.base.args -     n_tasks: 1\n",
      "08/23/2023 17:34:59 - INFO - muben.base.args -     n_test: 1\n",
      "08/23/2023 17:34:59 - INFO - muben.base.args -     n_ts_epochs: 20\n",
      "08/23/2023 17:34:59 - INFO - muben.base.args -     no_cuda: False\n",
      "08/23/2023 17:34:59 - INFO - muben.base.args -     no_mps: False\n",
      "08/23/2023 17:34:59 - INFO - muben.base.args -     num_preprocess_workers: 8\n",
      "08/23/2023 17:34:59 - INFO - muben.base.args -     num_workers: 0\n",
      "08/23/2023 17:34:59 - INFO - muben.base.args -     overwrite_results: False\n",
      "08/23/2023 17:34:59 - INFO - muben.base.args -     pin_memory: False\n",
      "08/23/2023 17:34:59 - INFO - muben.base.args -     random_split: False\n",
      "08/23/2023 17:34:59 - INFO - muben.base.args -     regression_with_variance: False\n",
      "08/23/2023 17:34:59 - INFO - muben.base.args -     result_dir: ../output-demo/bbbp/DNN-rdkit/none/seed-0\n",
      "08/23/2023 17:34:59 - INFO - muben.base.args -     result_folder: ../output-demo/\n",
      "08/23/2023 17:34:59 - INFO - muben.base.args -     retrain_model: True\n",
      "08/23/2023 17:34:59 - INFO - muben.base.args -     seed: 0\n",
      "08/23/2023 17:34:59 - INFO - muben.base.args -     sgld_prior_sigma: 0.1\n",
      "08/23/2023 17:34:59 - INFO - muben.base.args -     sgld_sampling_interval: 2\n",
      "08/23/2023 17:34:59 - INFO - muben.base.args -     swa_lr_decay: 0.5\n",
      "08/23/2023 17:34:59 - INFO - muben.base.args -     task_type: classification\n",
      "08/23/2023 17:34:59 - INFO - muben.base.args -     time_training: True\n",
      "08/23/2023 17:34:59 - INFO - muben.base.args -     ts_lr: 0.01\n",
      "08/23/2023 17:34:59 - INFO - muben.base.args -     uncertainty_method: none\n",
      "08/23/2023 17:34:59 - INFO - muben.base.args -     valid_epoch_interval: 1\n",
      "08/23/2023 17:34:59 - INFO - muben.base.args -     valid_tolerance: 20\n",
      "08/23/2023 17:34:59 - INFO - muben.base.args -     wandb_api_key: None\n",
      "08/23/2023 17:34:59 - INFO - muben.base.args -     wandb_name: DNN-rdkit-none\n",
      "08/23/2023 17:34:59 - INFO - muben.base.args -     wandb_project: MUBen-\n",
      "08/23/2023 17:34:59 - INFO - muben.base.args -     warmup_ratio: 0.1\n"
     ]
    }
   ],
   "source": [
    "# Set up the logging format and random seed.\n",
    "# We do not use wandb for this demo, so we set its mode to \"disabled\".\n",
    "set_logging()\n",
    "set_seed(0)\n",
    "wandb.init(mode=\"disabled\",)\n",
    "\n",
    "# Specify the configuration of the experiment.\n",
    "# Notice that although we directly edit the config object here, a more appropriate way of doing this is \n",
    "# passing arguments through the shell or json scripts when we are running the experiments through the terminal.\n",
    "config = Config()\n",
    "config.model_name = \"DNN\"\n",
    "config.feature_type = \"rdkit\"\n",
    "config.data_folder = \"../data/files/\"\n",
    "config.dataset_name = \"bbbp\"\n",
    "config.result_folder = \"../output-demo/\"\n",
    "config.uncertainty_method = \"none\"\n",
    "config.retrain_model = True\n",
    "\n",
    "config.n_epochs = 20  # We only train the model for a small number of epochs for the demo.\n",
    "config.time_training = True\n",
    "\n",
    "config.__post_init__()\n",
    "\n",
    "# Load dataset metadata, validate the arguments, and log the configuration.\n",
    "_ = config.get_meta().validate().log()\n"
   ]
  },
  {
   "cell_type": "code",
   "execution_count": 3,
   "metadata": {},
   "outputs": [
    {
     "name": "stderr",
     "output_type": "stream",
     "text": [
      "08/23/2023 17:34:59 - INFO - muben.base.dataset -   Loading pre-processed dataset ../data/files/bbbp/processed/DNN-rdkit/train.pt\n",
      "08/23/2023 17:34:59 - INFO - muben.base.dataset -   Loading pre-processed dataset ../data/files/bbbp/processed/DNN-rdkit/valid.pt\n",
      "08/23/2023 17:34:59 - INFO - muben.base.dataset -   Loading pre-processed dataset ../data/files/bbbp/processed/DNN-rdkit/test.pt\n"
     ]
    }
   ],
   "source": [
    "# Load and process the training, validation and test datasets\n",
    "training_dataset = Dataset().prepare(config=config, partition=\"train\")\n",
    "valid_dataset = Dataset().prepare(config=config, partition=\"valid\")\n",
    "test_dataset = Dataset().prepare(config=config, partition=\"test\")"
   ]
  },
  {
   "cell_type": "code",
   "execution_count": 4,
   "metadata": {},
   "outputs": [
    {
     "name": "stderr",
     "output_type": "stream",
     "text": [
      "08/23/2023 17:34:59 - INFO - muben.base.train.trainer -   Trainer initialized. The model contains 157953 parameters\n"
     ]
    }
   ],
   "source": [
    "# Inintialized the trainer with the configuration and datasets\n",
    "trainer = Trainer(\n",
    "    config=config,\n",
    "    training_dataset=training_dataset,\n",
    "    valid_dataset=valid_dataset,\n",
    "    test_dataset=test_dataset,\n",
    ")"
   ]
  },
  {
   "cell_type": "code",
   "execution_count": 5,
   "metadata": {},
   "outputs": [
    {
     "name": "stderr",
     "output_type": "stream",
     "text": [
      "08/23/2023 17:34:59 - INFO - muben.base.train.trainer -   Training model\n",
      "08/23/2023 17:34:59 - INFO - muben.base.train.trainer -   [Training Epoch 0]\n",
      "08/23/2023 17:35:01 - INFO - muben.base.train.trainer -     Training Loss: 0.5374.\n",
      "08/23/2023 17:35:01 - INFO - muben.base.train.trainer -     Average Time per Step: 0.0241.\n",
      "08/23/2023 17:35:01 - INFO - muben.base.train.trainer -   [Valid step 1] results:\n",
      "08/23/2023 17:35:01 - INFO - muben.base.train.trainer -     roc_auc: 0.3002.\n",
      "08/23/2023 17:35:01 - INFO - muben.base.train.trainer -   Model buffer is updated!\n",
      "08/23/2023 17:35:01 - INFO - muben.base.train.trainer -   [Training Epoch 1]\n",
      "08/23/2023 17:35:02 - INFO - muben.base.train.trainer -     Training Loss: 0.4387.\n",
      "08/23/2023 17:35:02 - INFO - muben.base.train.trainer -     Average Time per Step: 0.0180.\n",
      "08/23/2023 17:35:02 - INFO - muben.base.train.trainer -   [Valid step 2] results:\n",
      "08/23/2023 17:35:02 - INFO - muben.base.train.trainer -     roc_auc: 0.8225.\n",
      "08/23/2023 17:35:02 - INFO - muben.base.train.trainer -   Model buffer is updated!\n",
      "08/23/2023 17:35:02 - INFO - muben.base.train.trainer -   [Training Epoch 2]\n",
      "08/23/2023 17:35:03 - INFO - muben.base.train.trainer -     Training Loss: 0.4063.\n",
      "08/23/2023 17:35:03 - INFO - muben.base.train.trainer -     Average Time per Step: 0.0177.\n",
      "08/23/2023 17:35:03 - INFO - muben.base.train.trainer -   [Valid step 3] results:\n",
      "08/23/2023 17:35:03 - INFO - muben.base.train.trainer -     roc_auc: 0.9358.\n",
      "08/23/2023 17:35:03 - INFO - muben.base.train.trainer -   Model buffer is updated!\n",
      "08/23/2023 17:35:03 - INFO - muben.base.train.trainer -   [Training Epoch 3]\n",
      "08/23/2023 17:35:04 - INFO - muben.base.train.trainer -     Training Loss: 0.3623.\n",
      "08/23/2023 17:35:04 - INFO - muben.base.train.trainer -     Average Time per Step: 0.0183.\n",
      "08/23/2023 17:35:04 - INFO - muben.base.train.trainer -   [Valid step 4] results:\n",
      "08/23/2023 17:35:04 - INFO - muben.base.train.trainer -     roc_auc: 0.9504.\n",
      "08/23/2023 17:35:04 - INFO - muben.base.train.trainer -   Model buffer is updated!\n",
      "08/23/2023 17:35:04 - INFO - muben.base.train.trainer -   [Training Epoch 4]\n",
      "08/23/2023 17:35:05 - INFO - muben.base.train.trainer -     Training Loss: 0.3316.\n",
      "08/23/2023 17:35:05 - INFO - muben.base.train.trainer -     Average Time per Step: 0.0177.\n",
      "08/23/2023 17:35:05 - INFO - muben.base.train.trainer -   [Valid step 5] results:\n",
      "08/23/2023 17:35:05 - INFO - muben.base.train.trainer -     roc_auc: 0.9538.\n",
      "08/23/2023 17:35:05 - INFO - muben.base.train.trainer -   Model buffer is updated!\n",
      "08/23/2023 17:35:05 - INFO - muben.base.train.trainer -   [Training Epoch 5]\n",
      "08/23/2023 17:35:06 - INFO - muben.base.train.trainer -     Training Loss: 0.3091.\n",
      "08/23/2023 17:35:06 - INFO - muben.base.train.trainer -     Average Time per Step: 0.0175.\n",
      "08/23/2023 17:35:06 - INFO - muben.base.train.trainer -   [Valid step 6] results:\n",
      "08/23/2023 17:35:06 - INFO - muben.base.train.trainer -     roc_auc: 0.9594.\n",
      "08/23/2023 17:35:06 - INFO - muben.base.train.trainer -   Model buffer is updated!\n",
      "08/23/2023 17:35:06 - INFO - muben.base.train.trainer -   [Training Epoch 6]\n",
      "08/23/2023 17:35:07 - INFO - muben.base.train.trainer -     Training Loss: 0.2880.\n",
      "08/23/2023 17:35:07 - INFO - muben.base.train.trainer -     Average Time per Step: 0.0175.\n",
      "08/23/2023 17:35:07 - INFO - muben.base.train.trainer -   [Valid step 7] results:\n",
      "08/23/2023 17:35:07 - INFO - muben.base.train.trainer -     roc_auc: 0.9565.\n",
      "08/23/2023 17:35:07 - INFO - muben.base.train.trainer -   [Training Epoch 7]\n",
      "08/23/2023 17:35:08 - INFO - muben.base.train.trainer -     Training Loss: 0.2836.\n",
      "08/23/2023 17:35:08 - INFO - muben.base.train.trainer -     Average Time per Step: 0.0174.\n",
      "08/23/2023 17:35:08 - INFO - muben.base.train.trainer -   [Valid step 8] results:\n",
      "08/23/2023 17:35:08 - INFO - muben.base.train.trainer -     roc_auc: 0.9524.\n",
      "08/23/2023 17:35:08 - INFO - muben.base.train.trainer -   [Training Epoch 8]\n",
      "08/23/2023 17:35:09 - INFO - muben.base.train.trainer -     Training Loss: 0.2624.\n",
      "08/23/2023 17:35:09 - INFO - muben.base.train.trainer -     Average Time per Step: 0.0173.\n",
      "08/23/2023 17:35:09 - INFO - muben.base.train.trainer -   [Valid step 9] results:\n",
      "08/23/2023 17:35:09 - INFO - muben.base.train.trainer -     roc_auc: 0.9488.\n",
      "08/23/2023 17:35:09 - INFO - muben.base.train.trainer -   [Training Epoch 9]\n",
      "08/23/2023 17:35:10 - INFO - muben.base.train.trainer -     Training Loss: 0.2543.\n",
      "08/23/2023 17:35:10 - INFO - muben.base.train.trainer -     Average Time per Step: 0.0173.\n",
      "08/23/2023 17:35:10 - INFO - muben.base.train.trainer -   [Valid step 10] results:\n",
      "08/23/2023 17:35:10 - INFO - muben.base.train.trainer -     roc_auc: 0.9488.\n",
      "08/23/2023 17:35:10 - INFO - muben.base.train.trainer -   [Training Epoch 10]\n",
      "08/23/2023 17:35:11 - INFO - muben.base.train.trainer -     Training Loss: 0.2448.\n",
      "08/23/2023 17:35:11 - INFO - muben.base.train.trainer -     Average Time per Step: 0.0188.\n",
      "08/23/2023 17:35:11 - INFO - muben.base.train.trainer -   [Valid step 11] results:\n",
      "08/23/2023 17:35:11 - INFO - muben.base.train.trainer -     roc_auc: 0.9452.\n",
      "08/23/2023 17:35:11 - INFO - muben.base.train.trainer -   [Training Epoch 11]\n",
      "08/23/2023 17:35:12 - INFO - muben.base.train.trainer -     Training Loss: 0.2374.\n",
      "08/23/2023 17:35:12 - INFO - muben.base.train.trainer -     Average Time per Step: 0.0185.\n",
      "08/23/2023 17:35:12 - INFO - muben.base.train.trainer -   [Valid step 12] results:\n",
      "08/23/2023 17:35:12 - INFO - muben.base.train.trainer -     roc_auc: 0.9504.\n",
      "08/23/2023 17:35:12 - INFO - muben.base.train.trainer -   [Training Epoch 12]\n",
      "08/23/2023 17:35:13 - INFO - muben.base.train.trainer -     Training Loss: 0.2275.\n",
      "08/23/2023 17:35:13 - INFO - muben.base.train.trainer -     Average Time per Step: 0.0178.\n",
      "08/23/2023 17:35:13 - INFO - muben.base.train.trainer -   [Valid step 13] results:\n",
      "08/23/2023 17:35:13 - INFO - muben.base.train.trainer -     roc_auc: 0.9511.\n",
      "08/23/2023 17:35:13 - INFO - muben.base.train.trainer -   [Training Epoch 13]\n",
      "08/23/2023 17:35:14 - INFO - muben.base.train.trainer -     Training Loss: 0.2271.\n",
      "08/23/2023 17:35:14 - INFO - muben.base.train.trainer -     Average Time per Step: 0.0184.\n",
      "08/23/2023 17:35:14 - INFO - muben.base.train.trainer -   [Valid step 14] results:\n",
      "08/23/2023 17:35:14 - INFO - muben.base.train.trainer -     roc_auc: 0.9496.\n",
      "08/23/2023 17:35:14 - INFO - muben.base.train.trainer -   [Training Epoch 14]\n",
      "08/23/2023 17:35:15 - INFO - muben.base.train.trainer -     Training Loss: 0.2195.\n",
      "08/23/2023 17:35:15 - INFO - muben.base.train.trainer -     Average Time per Step: 0.0174.\n",
      "08/23/2023 17:35:15 - INFO - muben.base.train.trainer -   [Valid step 15] results:\n",
      "08/23/2023 17:35:15 - INFO - muben.base.train.trainer -     roc_auc: 0.9468.\n",
      "08/23/2023 17:35:15 - INFO - muben.base.train.trainer -   [Training Epoch 15]\n",
      "08/23/2023 17:35:16 - INFO - muben.base.train.trainer -     Training Loss: 0.2159.\n",
      "08/23/2023 17:35:16 - INFO - muben.base.train.trainer -     Average Time per Step: 0.0173.\n",
      "08/23/2023 17:35:16 - INFO - muben.base.train.trainer -   [Valid step 16] results:\n",
      "08/23/2023 17:35:16 - INFO - muben.base.train.trainer -     roc_auc: 0.9477.\n",
      "08/23/2023 17:35:16 - INFO - muben.base.train.trainer -   [Training Epoch 16]\n",
      "08/23/2023 17:35:17 - INFO - muben.base.train.trainer -     Training Loss: 0.2043.\n",
      "08/23/2023 17:35:17 - INFO - muben.base.train.trainer -     Average Time per Step: 0.0174.\n",
      "08/23/2023 17:35:17 - INFO - muben.base.train.trainer -   [Valid step 17] results:\n",
      "08/23/2023 17:35:17 - INFO - muben.base.train.trainer -     roc_auc: 0.9482.\n",
      "08/23/2023 17:35:17 - INFO - muben.base.train.trainer -   [Training Epoch 17]\n",
      "08/23/2023 17:35:18 - INFO - muben.base.train.trainer -     Training Loss: 0.2015.\n",
      "08/23/2023 17:35:18 - INFO - muben.base.train.trainer -     Average Time per Step: 0.0174.\n",
      "08/23/2023 17:35:18 - INFO - muben.base.train.trainer -   [Valid step 18] results:\n",
      "08/23/2023 17:35:18 - INFO - muben.base.train.trainer -     roc_auc: 0.9513.\n",
      "08/23/2023 17:35:18 - INFO - muben.base.train.trainer -   [Training Epoch 18]\n",
      "08/23/2023 17:35:19 - INFO - muben.base.train.trainer -     Training Loss: 0.1981.\n",
      "08/23/2023 17:35:19 - INFO - muben.base.train.trainer -     Average Time per Step: 0.0177.\n",
      "08/23/2023 17:35:19 - INFO - muben.base.train.trainer -   [Valid step 19] results:\n",
      "08/23/2023 17:35:19 - INFO - muben.base.train.trainer -     roc_auc: 0.9473.\n",
      "08/23/2023 17:35:19 - INFO - muben.base.train.trainer -   [Training Epoch 19]\n",
      "08/23/2023 17:35:20 - INFO - muben.base.train.trainer -     Training Loss: 0.1822.\n",
      "08/23/2023 17:35:20 - INFO - muben.base.train.trainer -     Average Time per Step: 0.0181.\n",
      "08/23/2023 17:35:20 - INFO - muben.base.train.trainer -   [Valid step 20] results:\n",
      "08/23/2023 17:35:20 - INFO - muben.base.train.trainer -     roc_auc: 0.9485.\n",
      "08/23/2023 17:35:20 - INFO - muben.base.train.trainer -   [Single Shot] Test results:\n",
      "08/23/2023 17:35:20 - INFO - muben.base.train.trainer -     roc_auc: 0.6854.\n",
      "08/23/2023 17:35:20 - INFO - muben.base.train.trainer -   Done.\n"
     ]
    }
   ],
   "source": [
    "# Run the training, validation and test process.\n",
    "# The model checkpoint and predicted results will be automatically saved in the specified output folder.\n",
    "trainer.run()"
   ]
  },
  {
   "cell_type": "markdown",
   "metadata": {},
   "source": [
    "## Run Temperature Scaling"
   ]
  },
  {
   "cell_type": "code",
   "execution_count": 6,
   "metadata": {},
   "outputs": [
    {
     "name": "stderr",
     "output_type": "stream",
     "text": [
      "08/23/2023 17:35:20 - INFO - muben.base.args -   Configurations: (<class 'muben.dnn.args.Config'>)\n",
      "08/23/2023 17:35:20 - INFO - muben.base.args -     apply_preconditioned_sgld: False\n",
      "08/23/2023 17:35:20 - INFO - muben.base.args -     apply_temperature_scaling_after_focal_loss: False\n",
      "08/23/2023 17:35:20 - INFO - muben.base.args -     apply_wandb: True\n",
      "08/23/2023 17:35:20 - INFO - muben.base.args -     batch_size: 32\n",
      "08/23/2023 17:35:20 - INFO - muben.base.args -     batch_size_inference: None\n",
      "08/23/2023 17:35:20 - INFO - muben.base.args -     bbp_prior_sigma: 0.1\n",
      "08/23/2023 17:35:20 - INFO - muben.base.args -     binary_classification_with_softmax: False\n",
      "08/23/2023 17:35:20 - INFO - muben.base.args -     classes: [0, 1]\n",
      "08/23/2023 17:35:20 - INFO - muben.base.args -     d_dnn_hidden: 128\n",
      "08/23/2023 17:35:20 - INFO - muben.base.args -     d_feature: 200\n",
      "08/23/2023 17:35:20 - INFO - muben.base.args -     data_dir: ../data/files/bbbp\n",
      "08/23/2023 17:35:20 - INFO - muben.base.args -     data_folder: ../data/files/\n",
      "08/23/2023 17:35:20 - INFO - muben.base.args -     data_seed: None\n",
      "08/23/2023 17:35:20 - INFO - muben.base.args -     dataset_name: bbbp\n",
      "08/23/2023 17:35:20 - INFO - muben.base.args -     debug: False\n",
      "08/23/2023 17:35:20 - INFO - muben.base.args -     deploy: False\n",
      "08/23/2023 17:35:20 - INFO - muben.base.args -     device: mps\n",
      "08/23/2023 17:35:20 - INFO - muben.base.args -     disable_dataset_saving: False\n",
      "08/23/2023 17:35:20 - INFO - muben.base.args -     disable_result_saving: False\n",
      "08/23/2023 17:35:20 - INFO - muben.base.args -     disable_wandb: False\n",
      "08/23/2023 17:35:20 - INFO - muben.base.args -     dropout: 0.1\n",
      "08/23/2023 17:35:20 - INFO - muben.base.args -     eval_metric: None\n",
      "08/23/2023 17:35:20 - INFO - muben.base.args -     evidential_clx_loss_annealing_epochs: 10\n",
      "08/23/2023 17:35:20 - INFO - muben.base.args -     evidential_reg_loss_weight: 1\n",
      "08/23/2023 17:35:20 - INFO - muben.base.args -     feature_type: rdkit\n",
      "08/23/2023 17:35:20 - INFO - muben.base.args -     freeze_backbone: False\n",
      "08/23/2023 17:35:20 - INFO - muben.base.args -     grad_norm: 0\n",
      "08/23/2023 17:35:20 - INFO - muben.base.args -     ignore_no_uncertainty_output: False\n",
      "08/23/2023 17:35:20 - INFO - muben.base.args -     ignore_preprocessed_dataset: False\n",
      "08/23/2023 17:35:20 - INFO - muben.base.args -     ignore_uncertainty_output: False\n",
      "08/23/2023 17:35:20 - INFO - muben.base.args -     k_swa_checkpoints: 20\n",
      "08/23/2023 17:35:20 - INFO - muben.base.args -     log_path: None\n",
      "08/23/2023 17:35:20 - INFO - muben.base.args -     lr: 0.0001\n",
      "08/23/2023 17:35:20 - INFO - muben.base.args -     lr_scheduler_type: constant\n",
      "08/23/2023 17:35:20 - INFO - muben.base.args -     model_name: DNN\n",
      "08/23/2023 17:35:20 - INFO - muben.base.args -     n_dnn_hidden_layers: 8\n",
      "08/23/2023 17:35:20 - INFO - muben.base.args -     n_ensembles: 5\n",
      "08/23/2023 17:35:20 - INFO - muben.base.args -     n_epochs: 20\n",
      "08/23/2023 17:35:20 - INFO - muben.base.args -     n_feature_generating_threads: 8\n",
      "08/23/2023 17:35:20 - INFO - muben.base.args -     n_langevin_samples: 30\n",
      "08/23/2023 17:35:20 - INFO - muben.base.args -     n_lbs: 1\n",
      "08/23/2023 17:35:20 - INFO - muben.base.args -     n_swa_epochs: 20\n",
      "08/23/2023 17:35:20 - INFO - muben.base.args -     n_tasks: 1\n",
      "08/23/2023 17:35:20 - INFO - muben.base.args -     n_test: 1\n",
      "08/23/2023 17:35:20 - INFO - muben.base.args -     n_ts_epochs: 10\n",
      "08/23/2023 17:35:20 - INFO - muben.base.args -     no_cuda: False\n",
      "08/23/2023 17:35:20 - INFO - muben.base.args -     no_mps: False\n",
      "08/23/2023 17:35:20 - INFO - muben.base.args -     num_preprocess_workers: 8\n",
      "08/23/2023 17:35:20 - INFO - muben.base.args -     num_workers: 0\n",
      "08/23/2023 17:35:20 - INFO - muben.base.args -     overwrite_results: False\n",
      "08/23/2023 17:35:20 - INFO - muben.base.args -     pin_memory: False\n",
      "08/23/2023 17:35:20 - INFO - muben.base.args -     random_split: False\n",
      "08/23/2023 17:35:20 - INFO - muben.base.args -     regression_with_variance: False\n",
      "08/23/2023 17:35:20 - INFO - muben.base.args -     result_dir: ../output-demo/bbbp/DNN-rdkit/TemperatureScaling/seed-0\n",
      "08/23/2023 17:35:20 - INFO - muben.base.args -     result_folder: ../output-demo/\n",
      "08/23/2023 17:35:20 - INFO - muben.base.args -     retrain_model: False\n",
      "08/23/2023 17:35:20 - INFO - muben.base.args -     seed: 0\n",
      "08/23/2023 17:35:20 - INFO - muben.base.args -     sgld_prior_sigma: 0.1\n",
      "08/23/2023 17:35:20 - INFO - muben.base.args -     sgld_sampling_interval: 2\n",
      "08/23/2023 17:35:20 - INFO - muben.base.args -     swa_lr_decay: 0.5\n",
      "08/23/2023 17:35:20 - INFO - muben.base.args -     task_type: classification\n",
      "08/23/2023 17:35:20 - INFO - muben.base.args -     time_training: True\n",
      "08/23/2023 17:35:20 - INFO - muben.base.args -     ts_lr: 0.01\n",
      "08/23/2023 17:35:20 - INFO - muben.base.args -     uncertainty_method: TemperatureScaling\n",
      "08/23/2023 17:35:20 - INFO - muben.base.args -     valid_epoch_interval: 1\n",
      "08/23/2023 17:35:20 - INFO - muben.base.args -     valid_tolerance: 20\n",
      "08/23/2023 17:35:20 - INFO - muben.base.args -     wandb_api_key: None\n",
      "08/23/2023 17:35:20 - INFO - muben.base.args -     wandb_name: DNN-rdkit-none\n",
      "08/23/2023 17:35:20 - INFO - muben.base.args -     wandb_project: MUBen-\n",
      "08/23/2023 17:35:20 - INFO - muben.base.args -     warmup_ratio: 0.1\n"
     ]
    }
   ],
   "source": [
    "wandb.init(mode=\"disabled\",)\n",
    "# Change some configuration items.\n",
    "config.uncertainty_method = \"TemperatureScaling\"\n",
    "config.retrain_model = False\n",
    "config.n_ts_epochs = 10  # number of epochs for training the temperature scaling layer.\n",
    "config.__post_init__()\n",
    "_ = config.validate().log()"
   ]
  },
  {
   "cell_type": "code",
   "execution_count": 7,
   "metadata": {},
   "outputs": [
    {
     "name": "stderr",
     "output_type": "stream",
     "text": [
      "08/23/2023 17:35:20 - INFO - muben.base.train.trainer -   Trainer initialized. The model contains 157953 parameters\n"
     ]
    }
   ],
   "source": [
    "# Re-inintialized the trainer with the updated configuration.\n",
    "# The datasets are not changed.\n",
    "trainer = Trainer(\n",
    "    config=config,\n",
    "    training_dataset=training_dataset,\n",
    "    valid_dataset=valid_dataset,\n",
    "    test_dataset=test_dataset,\n",
    ")"
   ]
  },
  {
   "cell_type": "code",
   "execution_count": 8,
   "metadata": {},
   "outputs": [
    {
     "name": "stderr",
     "output_type": "stream",
     "text": [
      "08/23/2023 17:35:20 - INFO - muben.base.train.trainer -   Loading trained model from ../output-demo/bbbp/DNN-rdkit/TemperatureScaling/seed-0/model_best.ckpt.\n",
      "08/23/2023 17:35:20 - INFO - muben.base.train.trainer -   Temperature Scaling session start.\n",
      "08/23/2023 17:35:20 - INFO - muben.base.train.trainer -   Training model on validation\n",
      "08/23/2023 17:35:20 - INFO - muben.base.train.trainer -   [Training Epoch 0]\n",
      "08/23/2023 17:35:20 - INFO - muben.base.train.trainer -     Training Loss: 0.5309.\n",
      "08/23/2023 17:35:20 - INFO - muben.base.train.trainer -     Average Time per Step: 0.0090.\n",
      "08/23/2023 17:35:20 - INFO - muben.base.train.trainer -   [Training Epoch 1]\n",
      "08/23/2023 17:35:20 - INFO - muben.base.train.trainer -     Training Loss: 0.5303.\n",
      "08/23/2023 17:35:20 - INFO - muben.base.train.trainer -     Average Time per Step: 0.0059.\n",
      "08/23/2023 17:35:20 - INFO - muben.base.train.trainer -   [Training Epoch 2]\n",
      "08/23/2023 17:35:20 - INFO - muben.base.train.trainer -     Training Loss: 0.5300.\n",
      "08/23/2023 17:35:20 - INFO - muben.base.train.trainer -     Average Time per Step: 0.0058.\n",
      "08/23/2023 17:35:20 - INFO - muben.base.train.trainer -   [Training Epoch 3]\n",
      "08/23/2023 17:35:20 - INFO - muben.base.train.trainer -     Training Loss: 0.5297.\n",
      "08/23/2023 17:35:20 - INFO - muben.base.train.trainer -     Average Time per Step: 0.0061.\n",
      "08/23/2023 17:35:20 - INFO - muben.base.train.trainer -   [Training Epoch 4]\n",
      "08/23/2023 17:35:20 - INFO - muben.base.train.trainer -     Training Loss: 0.5295.\n",
      "08/23/2023 17:35:20 - INFO - muben.base.train.trainer -     Average Time per Step: 0.0059.\n",
      "08/23/2023 17:35:20 - INFO - muben.base.train.trainer -   [Training Epoch 5]\n",
      "08/23/2023 17:35:20 - INFO - muben.base.train.trainer -     Training Loss: 0.5293.\n",
      "08/23/2023 17:35:20 - INFO - muben.base.train.trainer -     Average Time per Step: 0.0057.\n",
      "08/23/2023 17:35:20 - INFO - muben.base.train.trainer -   [Training Epoch 6]\n",
      "08/23/2023 17:35:20 - INFO - muben.base.train.trainer -     Training Loss: 0.5291.\n",
      "08/23/2023 17:35:20 - INFO - muben.base.train.trainer -     Average Time per Step: 0.0059.\n",
      "08/23/2023 17:35:20 - INFO - muben.base.train.trainer -   [Training Epoch 7]\n",
      "08/23/2023 17:35:20 - INFO - muben.base.train.trainer -     Training Loss: 0.5290.\n",
      "08/23/2023 17:35:20 - INFO - muben.base.train.trainer -     Average Time per Step: 0.0056.\n",
      "08/23/2023 17:35:20 - INFO - muben.base.train.trainer -   [Training Epoch 8]\n",
      "08/23/2023 17:35:20 - INFO - muben.base.train.trainer -     Training Loss: 0.5290.\n",
      "08/23/2023 17:35:20 - INFO - muben.base.train.trainer -     Average Time per Step: 0.0056.\n",
      "08/23/2023 17:35:20 - INFO - muben.base.train.trainer -   [Training Epoch 9]\n",
      "08/23/2023 17:35:20 - INFO - muben.base.train.trainer -     Training Loss: 0.5290.\n",
      "08/23/2023 17:35:20 - INFO - muben.base.train.trainer -     Average Time per Step: 0.0056.\n",
      "08/23/2023 17:35:20 - INFO - muben.base.train.trainer -   [Temperature Scaling] Test results:\n",
      "08/23/2023 17:35:20 - INFO - muben.base.train.trainer -     roc_auc: 0.6854.\n",
      "08/23/2023 17:35:20 - INFO - muben.base.train.trainer -   Done.\n"
     ]
    }
   ],
   "source": [
    "# Run the training, validation and test process.\n",
    "# The trainer will load the model checkpoint from the Deterministic run and\n",
    "# continue training the temperature scaling layer.\n",
    "# Notice that not all UQ methods support continued training. For example, BBP requires training from scratch.\n",
    "trainer.run()"
   ]
  },
  {
   "cell_type": "markdown",
   "metadata": {},
   "source": [
    "## Calculating Metrics\n",
    "This is a simplified version of metric calculation. Please check `<project root>/assist/result_get_metrics.py` for the full function."
   ]
  },
  {
   "cell_type": "code",
   "execution_count": 9,
   "metadata": {},
   "outputs": [],
   "source": [
    "import os.path as op\n",
    "import pandas as pd\n",
    "from muben.utils.metrics import classification_metrics\n",
    "from muben.utils.io import load_results"
   ]
  },
  {
   "cell_type": "code",
   "execution_count": 20,
   "metadata": {},
   "outputs": [],
   "source": [
    "# Define the path to the predicted results. \"det\" stands for \"Deterministic\"; \"ts\" stands for \"Temperature Scaling\".\n",
    "det_result = op.join(\n",
    "    config.result_folder, config.dataset_name, f\"{config.model_name}-{config.feature_type}\",\n",
    "    \"none\", f\"seed-{config.seed}\", \"preds\", \"0.pt\"\n",
    ")\n",
    "ts_result = op.join(\n",
    "    config.result_folder, config.dataset_name, f\"{config.model_name}-{config.feature_type}\",\n",
    "    \"TemperatureScaling\", f\"seed-{config.seed}\", \"preds\", \"0.pt\"\n",
    ")\n",
    "\n",
    "# Load the predicted results.\n",
    "det_preds, _, lbs, masks = load_results([det_result])\n",
    "ts_preds, _, _, _ = load_results([ts_result])"
   ]
  },
  {
   "cell_type": "code",
   "execution_count": 21,
   "metadata": {},
   "outputs": [],
   "source": [
    "# Calculate the metrics.\n",
    "det_metrics = classification_metrics(det_preds, lbs, masks)\n",
    "ts_metrics = classification_metrics(ts_preds, lbs, masks)\n",
    "\n",
    "det_metrics = {k: v['macro-avg'] for k, v in det_metrics.items()}\n",
    "ts_metrics = {k: v['macro-avg'] for k, v in ts_metrics.items()}"
   ]
  },
  {
   "cell_type": "code",
   "execution_count": 24,
   "metadata": {},
   "outputs": [
    {
     "name": "stdout",
     "output_type": "stream",
     "text": [
      "                     roc-auc   prc-auc       ece       mce       nll     brier\n",
      "Deterministic       0.685378  0.739983  0.233773  0.606446  0.864909  0.285275\n",
      "TemperatureScaling  0.685378  0.739983  0.224520  0.529412  0.827177  0.279270\n"
     ]
    }
   ],
   "source": [
    "# Present the results in a dataframe.\n",
    "det_metrics_df = pd.DataFrame({\"Deterministic\": det_metrics, \"TemperatureScaling\": ts_metrics})\n",
    "det_metrics_df.T"
   ]
  }
 ],
 "metadata": {
  "kernelspec": {
   "display_name": "base",
   "language": "python",
   "name": "python3"
  },
  "language_info": {
   "codemirror_mode": {
    "name": "ipython",
    "version": 3
   },
   "file_extension": ".py",
   "mimetype": "text/x-python",
   "name": "python",
   "nbconvert_exporter": "python",
   "pygments_lexer": "ipython3",
   "version": "3.10.10"
  },
  "orig_nbformat": 4
 },
 "nbformat": 4,
 "nbformat_minor": 2
}
