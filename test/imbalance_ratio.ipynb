{
 "cells": [
  {
   "cell_type": "code",
   "execution_count": 29,
   "metadata": {
    "collapsed": true,
    "ExecuteTime": {
     "end_time": "2023-06-08T21:06:57.719485Z",
     "start_time": "2023-06-08T21:06:57.713656Z"
    }
   },
   "outputs": [],
   "source": [
    "import os.path as op\n",
    "import numpy as np\n",
    "from mubench.base.dataset import Dataset\n",
    "import pyperclip\n",
    "from mubench.base.args import Config"
   ]
  },
  {
   "cell_type": "code",
   "execution_count": 37,
   "outputs": [
    {
     "ename": "FileNotFoundError",
     "evalue": "File ../data/files/muv/train.csv does not exist!",
     "output_type": "error",
     "traceback": [
      "\u001B[0;31m---------------------------------------------------------------------------\u001B[0m",
      "\u001B[0;31mFileNotFoundError\u001B[0m                         Traceback (most recent call last)",
      "\u001B[0;32m/var/folders/_x/ldc86sks0rl7p0mhjbq4vrs80000gn/T/ipykernel_41575/3197645858.py\u001B[0m in \u001B[0;36m<module>\u001B[0;34m\u001B[0m\n\u001B[1;32m      4\u001B[0m \u001B[0mdataset_dir\u001B[0m \u001B[0;34m=\u001B[0m \u001B[0mop\u001B[0m\u001B[0;34m.\u001B[0m\u001B[0mjoin\u001B[0m\u001B[0;34m(\u001B[0m\u001B[0mdataset_folder\u001B[0m\u001B[0;34m,\u001B[0m \u001B[0mdataset_name\u001B[0m\u001B[0;34m)\u001B[0m\u001B[0;34m\u001B[0m\u001B[0;34m\u001B[0m\u001B[0m\n\u001B[1;32m      5\u001B[0m \u001B[0;34m\u001B[0m\u001B[0m\n\u001B[0;32m----> 6\u001B[0;31m \u001B[0mtraining_dataset\u001B[0m \u001B[0;34m=\u001B[0m \u001B[0mDataset\u001B[0m\u001B[0;34m(\u001B[0m\u001B[0;34m)\u001B[0m\u001B[0;34m.\u001B[0m\u001B[0mread_csv\u001B[0m\u001B[0;34m(\u001B[0m\u001B[0mdata_dir\u001B[0m\u001B[0;34m=\u001B[0m\u001B[0mdataset_dir\u001B[0m\u001B[0;34m,\u001B[0m \u001B[0mpartition\u001B[0m\u001B[0;34m=\u001B[0m\u001B[0;34m\"train\"\u001B[0m\u001B[0;34m)\u001B[0m\u001B[0;34m\u001B[0m\u001B[0;34m\u001B[0m\u001B[0m\n\u001B[0m\u001B[1;32m      7\u001B[0m \u001B[0mvalid_dataset\u001B[0m \u001B[0;34m=\u001B[0m \u001B[0mDataset\u001B[0m\u001B[0;34m(\u001B[0m\u001B[0;34m)\u001B[0m\u001B[0;34m.\u001B[0m\u001B[0mread_csv\u001B[0m\u001B[0;34m(\u001B[0m\u001B[0mdata_dir\u001B[0m\u001B[0;34m=\u001B[0m\u001B[0mdataset_dir\u001B[0m\u001B[0;34m,\u001B[0m \u001B[0mpartition\u001B[0m\u001B[0;34m=\u001B[0m\u001B[0;34m\"valid\"\u001B[0m\u001B[0;34m)\u001B[0m\u001B[0;34m\u001B[0m\u001B[0;34m\u001B[0m\u001B[0m\n\u001B[1;32m      8\u001B[0m \u001B[0mtest_dataset\u001B[0m \u001B[0;34m=\u001B[0m \u001B[0mDataset\u001B[0m\u001B[0;34m(\u001B[0m\u001B[0;34m)\u001B[0m\u001B[0;34m.\u001B[0m\u001B[0mread_csv\u001B[0m\u001B[0;34m(\u001B[0m\u001B[0mdata_dir\u001B[0m\u001B[0;34m=\u001B[0m\u001B[0mdataset_dir\u001B[0m\u001B[0;34m,\u001B[0m \u001B[0mpartition\u001B[0m\u001B[0;34m=\u001B[0m\u001B[0;34m\"test\"\u001B[0m\u001B[0;34m)\u001B[0m\u001B[0;34m\u001B[0m\u001B[0;34m\u001B[0m\u001B[0m\n",
      "\u001B[0;32m~/Github/UncertaintyBenchmark/mubench/base/dataset.py\u001B[0m in \u001B[0;36mread_csv\u001B[0;34m(self, data_dir, partition)\u001B[0m\n\u001B[1;32m    157\u001B[0m \u001B[0;34m\u001B[0m\u001B[0m\n\u001B[1;32m    158\u001B[0m         \u001B[0;32mif\u001B[0m \u001B[0;32mnot\u001B[0m \u001B[0;34m(\u001B[0m\u001B[0mfile_path\u001B[0m \u001B[0;32mand\u001B[0m \u001B[0mos\u001B[0m\u001B[0;34m.\u001B[0m\u001B[0mpath\u001B[0m\u001B[0;34m.\u001B[0m\u001B[0mexists\u001B[0m\u001B[0;34m(\u001B[0m\u001B[0mfile_path\u001B[0m\u001B[0;34m)\u001B[0m\u001B[0;34m)\u001B[0m\u001B[0;34m:\u001B[0m\u001B[0;34m\u001B[0m\u001B[0;34m\u001B[0m\u001B[0m\n\u001B[0;32m--> 159\u001B[0;31m             \u001B[0;32mraise\u001B[0m \u001B[0mFileNotFoundError\u001B[0m\u001B[0;34m(\u001B[0m\u001B[0;34mf\"File {file_path} does not exist!\"\u001B[0m\u001B[0;34m)\u001B[0m\u001B[0;34m\u001B[0m\u001B[0;34m\u001B[0m\u001B[0m\n\u001B[0m\u001B[1;32m    160\u001B[0m \u001B[0;34m\u001B[0m\u001B[0m\n\u001B[1;32m    161\u001B[0m         \u001B[0mdf\u001B[0m \u001B[0;34m=\u001B[0m \u001B[0mpd\u001B[0m\u001B[0;34m.\u001B[0m\u001B[0mread_csv\u001B[0m\u001B[0;34m(\u001B[0m\u001B[0mfile_path\u001B[0m\u001B[0;34m)\u001B[0m\u001B[0;34m\u001B[0m\u001B[0;34m\u001B[0m\u001B[0m\n",
      "\u001B[0;31mFileNotFoundError\u001B[0m: File ../data/files/muv/train.csv does not exist!"
     ]
    }
   ],
   "source": [
    "dataset_name = 'muv'\n",
    "dataset_folder = '../data/files'\n",
    "\n",
    "dataset_dir = op.join(dataset_folder, dataset_name)\n",
    "\n",
    "training_dataset = Dataset().read_csv(data_dir=dataset_dir, partition=\"train\")\n",
    "valid_dataset = Dataset().read_csv(data_dir=dataset_dir, partition=\"valid\")\n",
    "test_dataset = Dataset().read_csv(data_dir=dataset_dir, partition=\"test\")\n"
   ],
   "metadata": {
    "collapsed": false,
    "ExecuteTime": {
     "end_time": "2023-06-08T21:08:05.537865Z",
     "start_time": "2023-06-08T21:08:05.524501Z"
    }
   }
  },
  {
   "cell_type": "code",
   "execution_count": 38,
   "outputs": [],
   "source": [
    "lbs = np.concatenate((training_dataset.lbs, valid_dataset.lbs, test_dataset.lbs), axis=0)\n",
    "masks = np.concatenate((training_dataset.masks, valid_dataset.masks, test_dataset.masks), axis=0)\n",
    "bool_masks = masks.astype(bool)\n"
   ],
   "metadata": {
    "collapsed": false,
    "ExecuteTime": {
     "end_time": "2023-06-08T21:08:05.837967Z",
     "start_time": "2023-06-08T21:08:05.835487Z"
    }
   }
  },
  {
   "cell_type": "code",
   "execution_count": 36,
   "outputs": [
    {
     "name": "stdout",
     "output_type": "stream",
     "text": [
      "0.9649 & 0.9649\n"
     ]
    }
   ],
   "source": [
    "ratios = list()\n",
    "for lbs_ in lbs.T:\n",
    "    n_pos = np.sum(lbs_ == 1)\n",
    "    n_neg = np.sum(lbs_ == 0)\n",
    "    pos_ratio = n_pos / (n_pos + n_neg)\n",
    "    ratios.append(pos_ratio if pos_ratio > 0.5 else (1-pos_ratio))\n",
    "\n",
    "print(f\"{np.mean(ratios):.4f} & {np.max(ratios):.4f}\")\n",
    "pyperclip.copy(f\"{np.mean(ratios):.4f} & {np.max(ratios):.4f}\")"
   ],
   "metadata": {
    "collapsed": false,
    "ExecuteTime": {
     "end_time": "2023-06-08T21:07:49.650218Z",
     "start_time": "2023-06-08T21:07:49.625818Z"
    }
   }
  },
  {
   "cell_type": "code",
   "execution_count": null,
   "outputs": [],
   "source": [],
   "metadata": {
    "collapsed": false
   }
  }
 ],
 "metadata": {
  "kernelspec": {
   "display_name": "Python 3",
   "language": "python",
   "name": "python3"
  },
  "language_info": {
   "codemirror_mode": {
    "name": "ipython",
    "version": 2
   },
   "file_extension": ".py",
   "mimetype": "text/x-python",
   "name": "python",
   "nbconvert_exporter": "python",
   "pygments_lexer": "ipython2",
   "version": "2.7.6"
  }
 },
 "nbformat": 4,
 "nbformat_minor": 0
}
