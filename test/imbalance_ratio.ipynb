{
 "cells": [
  {
   "cell_type": "code",
   "execution_count": 2,
   "metadata": {
    "ExecuteTime": {
     "end_time": "2023-06-08T21:06:57.719485Z",
     "start_time": "2023-06-08T21:06:57.713656Z"
    },
    "collapsed": true
   },
   "outputs": [],
   "source": [
    "import os.path as op\n",
    "import numpy as np\n",
    "from mubench.base.dataset import Dataset\n",
    "import pyperclip\n",
    "from mubench.base.args import Config"
   ]
  },
  {
   "cell_type": "code",
   "execution_count": 4,
   "metadata": {
    "ExecuteTime": {
     "end_time": "2023-06-08T21:08:05.537865Z",
     "start_time": "2023-06-08T21:08:05.524501Z"
    },
    "collapsed": false
   },
   "outputs": [],
   "source": [
    "dataset_name = 'muv'\n",
    "dataset_folder = './data/files'\n",
    "\n",
    "dataset_dir = op.join(dataset_folder, dataset_name)\n",
    "\n",
    "training_dataset = Dataset().read_csv(data_dir=dataset_dir, partition=\"train\")\n",
    "valid_dataset = Dataset().read_csv(data_dir=dataset_dir, partition=\"valid\")\n",
    "test_dataset = Dataset().read_csv(data_dir=dataset_dir, partition=\"test\")\n"
   ]
  },
  {
   "cell_type": "code",
   "execution_count": 5,
   "metadata": {
    "ExecuteTime": {
     "end_time": "2023-06-08T21:08:05.837967Z",
     "start_time": "2023-06-08T21:08:05.835487Z"
    },
    "collapsed": false
   },
   "outputs": [],
   "source": [
    "lbs = np.concatenate((training_dataset.lbs, valid_dataset.lbs, test_dataset.lbs), axis=0)\n",
    "masks = np.concatenate((training_dataset.masks, valid_dataset.masks, test_dataset.masks), axis=0)\n",
    "bool_masks = masks.astype(bool)\n"
   ]
  },
  {
   "cell_type": "code",
   "execution_count": 7,
   "metadata": {
    "ExecuteTime": {
     "end_time": "2023-06-08T21:07:49.650218Z",
     "start_time": "2023-06-08T21:07:49.625818Z"
    },
    "collapsed": false
   },
   "outputs": [
    {
     "name": "stdout",
     "output_type": "stream",
     "text": [
      "0.9980 & 0.9984\n"
     ]
    }
   ],
   "source": [
    "ratios = list()\n",
    "for lbs_ in lbs.T:\n",
    "    n_pos = np.sum(lbs_ == 1)\n",
    "    n_neg = np.sum(lbs_ == 0)\n",
    "    pos_ratio = n_pos / (n_pos + n_neg)\n",
    "    ratios.append(pos_ratio if pos_ratio > 0.5 else (1-pos_ratio))\n",
    "\n",
    "print(f\"{np.mean(ratios):.4f} & {np.max(ratios):.4f}\")\n",
    "# pyperclip.copy(f\"{np.mean(ratios):.4f} & {np.max(ratios):.4f}\")"
   ]
  },
  {
   "cell_type": "code",
   "execution_count": null,
   "metadata": {
    "collapsed": false
   },
   "outputs": [],
   "source": []
  }
 ],
 "metadata": {
  "kernelspec": {
   "display_name": "Python 3",
   "language": "python",
   "name": "python3"
  },
  "language_info": {
   "codemirror_mode": {
    "name": "ipython",
    "version": 3
   },
   "file_extension": ".py",
   "mimetype": "text/x-python",
   "name": "python",
   "nbconvert_exporter": "python",
   "pygments_lexer": "ipython3",
   "version": "3.10.10"
  }
 },
 "nbformat": 4,
 "nbformat_minor": 0
}
