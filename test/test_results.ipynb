{
 "cells": [
  {
   "cell_type": "code",
   "execution_count": 101,
   "metadata": {
    "ExecuteTime": {
     "start_time": "2023-05-21T16:46:11.676395Z",
     "end_time": "2023-05-21T16:46:11.678489Z"
    }
   },
   "outputs": [],
   "source": [
    "import os.path as op\n",
    "import torch\n",
    "import torch.nn.functional as F\n",
    "import numpy as np\n",
    "\n",
    "from mubench.utils.macro import DATASET_NAMES, MODEL_NAMES, UncertaintyMethods\n",
    "\n",
    "from sklearn.metrics import (\n",
    "    roc_auc_score,\n",
    "    mean_squared_error,\n",
    "    mean_absolute_error,\n",
    "    precision_recall_curve,\n",
    "    auc,\n",
    ")\n",
    "from torchmetrics.functional.classification import binary_calibration_error\n"
   ]
  },
  {
   "cell_type": "markdown",
   "source": [
    "## Classification metrics"
   ],
   "metadata": {
    "collapsed": false
   }
  },
  {
   "cell_type": "code",
   "execution_count": 86,
   "outputs": [],
   "source": [
    "result_folder = '../output/'\n",
    "\n",
    "dataset_name = 'tox21'\n",
    "assert dataset_name in DATASET_NAMES\n",
    "model_name = 'DNN'\n",
    "assert model_name in MODEL_NAMES\n",
    "\n",
    "uncertainty_method = UncertaintyMethods.none\n",
    "feature_type = 'rdkit'\n",
    "seed = 0\n",
    "test_run_idx = 0\n",
    "\n",
    "if model_name == \"DNN\" and feature_type != 'none':\n",
    "    model_name = f\"{model_name}-{feature_type}\"\n"
   ],
   "metadata": {
    "collapsed": false
   }
  },
  {
   "cell_type": "code",
   "execution_count": 87,
   "outputs": [],
   "source": [
    "result_path = op.join(result_folder, dataset_name, model_name, uncertainty_method, f\"seed-{seed}\", \"preds\", f\"{test_run_idx}.pt\")\n",
    "results = torch.load(result_path)\n"
   ],
   "metadata": {
    "collapsed": false
   }
  },
  {
   "cell_type": "code",
   "execution_count": 88,
   "metadata": {
    "ExecuteTime": {
     "start_time": "2023-05-21T16:37:08.498362Z",
     "end_time": "2023-05-21T16:37:08.509256Z"
    }
   },
   "outputs": [],
   "source": [
    "lbs = results['lbs']\n",
    "preds = results['preds']['preds']\n",
    "masks = results['masks']"
   ]
  },
  {
   "cell_type": "markdown",
   "source": [
    "### Macro-averaged roc-auc"
   ],
   "metadata": {
    "collapsed": false
   }
  },
  {
   "cell_type": "code",
   "execution_count": 89,
   "outputs": [],
   "source": [
    "roc_auc_list = list()\n",
    "for i in range(lbs.shape[-1]):\n",
    "    lbs_ = lbs[:, i][masks[:, i].astype(bool)]\n",
    "    preds_ = preds[:, i][masks[:, i].astype(bool)]\n",
    "    roc_auc = roc_auc_score(lbs_, preds_)\n",
    "    roc_auc_list.append(roc_auc)\n",
    "roc_auc_avg = np.mean(roc_auc_list)"
   ],
   "metadata": {
    "collapsed": false,
    "ExecuteTime": {
     "start_time": "2023-05-21T16:37:13.778460Z",
     "end_time": "2023-05-21T16:37:13.791231Z"
    }
   }
  },
  {
   "cell_type": "code",
   "execution_count": 90,
   "outputs": [
    {
     "name": "stdout",
     "output_type": "stream",
     "text": [
      "[0.7421067208271787, 0.761287370347773, 0.7837923460336234, 0.7512653299591201, 0.6967134345569864, 0.7537852479511044, 0.680899064171123, 0.7149373409516493, 0.6720508087201125, 0.6808395226570976, 0.8378207040572793, 0.7612171222279525] 0.7363929177050834\n"
     ]
    }
   ],
   "source": [
    "print(roc_auc_list, roc_auc_avg)"
   ],
   "metadata": {
    "collapsed": false,
    "ExecuteTime": {
     "start_time": "2023-05-21T16:37:14.250650Z",
     "end_time": "2023-05-21T16:37:14.254251Z"
    }
   }
  },
  {
   "cell_type": "markdown",
   "source": [
    "### Macro-averaged prc-auc"
   ],
   "metadata": {
    "collapsed": false
   }
  },
  {
   "cell_type": "code",
   "execution_count": 91,
   "outputs": [],
   "source": [
    "prc_auc_list = list()\n",
    "for i in range(lbs.shape[-1]):\n",
    "    lbs_ = lbs[:, i][masks[:, i].astype(bool)]\n",
    "    preds_ = preds[:, i][masks[:, i].astype(bool)]\n",
    "    p, r, _ = precision_recall_curve(lbs_, preds_)\n",
    "    prc_auc = auc(r, p)\n",
    "    prc_auc_list.append(prc_auc)\n",
    "prc_auc_avg = np.mean(prc_auc_list)\n"
   ],
   "metadata": {
    "collapsed": false,
    "ExecuteTime": {
     "start_time": "2023-05-21T16:37:25.670082Z",
     "end_time": "2023-05-21T16:37:25.682999Z"
    }
   }
  },
  {
   "cell_type": "code",
   "execution_count": 92,
   "outputs": [
    {
     "name": "stdout",
     "output_type": "stream",
     "text": [
      "[0.5020467980713031, 0.5308472315785736, 0.42030936176201217, 0.22119198642187377, 0.3926350235091736, 0.3144283962189145, 0.09593395067519724, 0.5049174066962185, 0.25277948282200463, 0.19554492350750857, 0.571195952499776, 0.33014443949625305] 0.3609979127715674\n"
     ]
    }
   ],
   "source": [
    "print(prc_auc_list, prc_auc_avg)"
   ],
   "metadata": {
    "collapsed": false,
    "ExecuteTime": {
     "start_time": "2023-05-21T16:37:26.719336Z",
     "end_time": "2023-05-21T16:37:26.727066Z"
    }
   }
  },
  {
   "cell_type": "markdown",
   "source": [
    "### Expected Calibration Error"
   ],
   "metadata": {
    "collapsed": false
   }
  },
  {
   "cell_type": "code",
   "execution_count": 93,
   "outputs": [],
   "source": [
    "ece_list = list()\n",
    "for i in range(lbs.shape[-1]):\n",
    "    lbs_ = lbs[:, i][masks[:, i].astype(bool)]\n",
    "    preds_ = preds[:, i][masks[:, i].astype(bool)]\n",
    "    ece = binary_calibration_error(torch.from_numpy(preds_), torch.from_numpy(lbs_)).item()\n",
    "    ece_list.append(ece)\n",
    "ece_avg = np.mean(ece_list)"
   ],
   "metadata": {
    "collapsed": false,
    "ExecuteTime": {
     "start_time": "2023-05-21T16:37:47.201441Z",
     "end_time": "2023-05-21T16:37:47.205794Z"
    }
   }
  },
  {
   "cell_type": "code",
   "execution_count": 94,
   "outputs": [
    {
     "name": "stdout",
     "output_type": "stream",
     "text": [
      "[0.03527170792222023, 0.02535352110862732, 0.0663517490029335, 0.03395678102970123, 0.05184989422559738, 0.051950603723526, 0.011623824015259743, 0.08465956151485443, 0.04783053696155548, 0.03616580367088318, 0.06094920262694359, 0.03106909804046154] 0.04475269032021364\n"
     ]
    }
   ],
   "source": [
    "print(ece_list, ece_avg)"
   ],
   "metadata": {
    "collapsed": false,
    "ExecuteTime": {
     "start_time": "2023-05-21T16:37:47.962469Z",
     "end_time": "2023-05-21T16:37:47.965667Z"
    }
   }
  },
  {
   "cell_type": "markdown",
   "source": [
    "### Maximum Calibration Error"
   ],
   "metadata": {
    "collapsed": false
   }
  },
  {
   "cell_type": "code",
   "execution_count": 95,
   "outputs": [],
   "source": [
    "mce_list = list()\n",
    "for i in range(lbs.shape[-1]):\n",
    "    lbs_ = lbs[:, i][masks[:, i].astype(bool)]\n",
    "    preds_ = preds[:, i][masks[:, i].astype(bool)]\n",
    "    mce = binary_calibration_error(torch.from_numpy(preds_), torch.from_numpy(lbs_), norm='max').item()\n",
    "    mce_list.append(mce)\n",
    "mce_avg = np.mean(mce_list)\n"
   ],
   "metadata": {
    "collapsed": false,
    "ExecuteTime": {
     "start_time": "2023-05-21T16:37:52.673216Z",
     "end_time": "2023-05-21T16:37:52.679006Z"
    }
   }
  },
  {
   "cell_type": "code",
   "execution_count": 96,
   "outputs": [
    {
     "name": "stdout",
     "output_type": "stream",
     "text": [
      "[0.7613016963005066, 0.8440595865249634, 0.393152117729187, 0.2902507781982422, 0.4681076109409332, 0.8364065289497375, 0.4697633981704712, 0.2637096643447876, 0.36381763219833374, 0.5380767583847046, 0.29988473653793335, 0.09579083323478699] 0.46869344512621564\n"
     ]
    }
   ],
   "source": [
    "print(mce_list, mce_avg)\n"
   ],
   "metadata": {
    "collapsed": false,
    "ExecuteTime": {
     "start_time": "2023-05-21T16:37:53.006697Z",
     "end_time": "2023-05-21T16:37:53.012773Z"
    }
   }
  },
  {
   "cell_type": "markdown",
   "source": [
    "## Regression Metrics"
   ],
   "metadata": {
    "collapsed": false
   }
  },
  {
   "cell_type": "code",
   "execution_count": 120,
   "outputs": [],
   "source": [
    "result_folder = '../output/'\n",
    "\n",
    "dataset_name = 'esol'\n",
    "assert dataset_name in DATASET_NAMES\n",
    "model_name = 'DNN'\n",
    "assert model_name in MODEL_NAMES\n",
    "\n",
    "uncertainty_method = UncertaintyMethods.none\n",
    "feature_type = 'rdkit'\n",
    "seed = 0\n",
    "test_run_idx = 0\n",
    "\n",
    "if model_name == \"DNN\" and feature_type != 'none':\n",
    "    model_name = f\"{model_name}-{feature_type}\"\n",
    "\n",
    "result_path = op.join(result_folder, dataset_name, model_name, uncertainty_method, f\"seed-{seed}\", \"preds\",\n",
    "                      f\"{test_run_idx}.pt\")\n",
    "results = torch.load(result_path)\n"
   ],
   "metadata": {
    "collapsed": false,
    "ExecuteTime": {
     "start_time": "2023-05-21T17:19:46.102723Z",
     "end_time": "2023-05-21T17:19:46.106454Z"
    }
   }
  },
  {
   "cell_type": "code",
   "execution_count": 135,
   "outputs": [],
   "source": [
    "lbs = results['lbs']\n",
    "preds = results['preds']['preds']\n",
    "variances = results['preds']['vars']\n",
    "masks = results['masks']\n",
    "\n",
    "if len(preds.shape) == 1:\n",
    "    preds = preds[:, np.newaxis]\n",
    "\n",
    "if len(variances.shape) == 1:\n",
    "    variances = variances[:, np.newaxis]\n",
    "\n"
   ],
   "metadata": {
    "collapsed": false,
    "ExecuteTime": {
     "start_time": "2023-05-21T17:22:45.903239Z",
     "end_time": "2023-05-21T17:22:45.909042Z"
    }
   }
  },
  {
   "cell_type": "markdown",
   "source": [
    "### RMSE"
   ],
   "metadata": {
    "collapsed": false
   }
  },
  {
   "cell_type": "code",
   "execution_count": 140,
   "outputs": [
    {
     "name": "stdout",
     "output_type": "stream",
     "text": [
      "[0.9062639287855146] 0.9062639287855146\n"
     ]
    }
   ],
   "source": [
    "rmse_list = list()\n",
    "for i in range(lbs.shape[-1]):\n",
    "    lbs_ = lbs[:, i][masks[:, i].astype(bool)]\n",
    "    preds_ = preds[:, i][masks[:, i].astype(bool)]\n",
    "    rmse = mean_squared_error(lbs_, preds_, squared=False)\n",
    "    rmse_list.append(rmse)\n",
    "rmse_avg = np.mean(rmse_list)\n",
    "print(rmse_list, rmse_avg)"
   ],
   "metadata": {
    "collapsed": false,
    "ExecuteTime": {
     "start_time": "2023-05-21T17:24:56.377564Z",
     "end_time": "2023-05-21T17:24:56.387092Z"
    }
   }
  },
  {
   "cell_type": "markdown",
   "source": [
    "### MAE"
   ],
   "metadata": {
    "collapsed": false
   }
  },
  {
   "cell_type": "code",
   "execution_count": 141,
   "outputs": [
    {
     "name": "stdout",
     "output_type": "stream",
     "text": [
      "[0.7081242712225955] 0.7081242712225955\n"
     ]
    }
   ],
   "source": [
    "mae_list = list()\n",
    "for i in range(lbs.shape[-1]):\n",
    "    lbs_ = lbs[:, i][masks[:, i].astype(bool)]\n",
    "    preds_ = preds[:, i][masks[:, i].astype(bool)]\n",
    "    mae = mean_absolute_error(lbs_, preds_)\n",
    "    mae_list.append(mae)\n",
    "mae_avg = np.mean(mae_list)\n",
    "print(mae_list, mae_avg)"
   ],
   "metadata": {
    "collapsed": false,
    "ExecuteTime": {
     "start_time": "2023-05-21T17:29:52.135228Z",
     "end_time": "2023-05-21T17:29:52.139904Z"
    }
   }
  },
  {
   "cell_type": "markdown",
   "source": [
    "### Gaussian negative log likelihood"
   ],
   "metadata": {
    "collapsed": false
   }
  },
  {
   "cell_type": "code",
   "execution_count": 144,
   "outputs": [
    {
     "name": "stdout",
     "output_type": "stream",
     "text": [
      "[0.37371532391765244] 0.37371532391765244\n"
     ]
    }
   ],
   "source": [
    "nll_list = list()\n",
    "for i in range(lbs.shape[-1]):\n",
    "    lbs_ = lbs[:, i][masks[:, i].astype(bool)]\n",
    "    preds_ = preds[:, i][masks[:, i].astype(bool)]\n",
    "    vars_ = variances[:, i][masks[:, i].astype(bool)]\n",
    "    nll = F.gaussian_nll_loss(torch.from_numpy(preds_), torch.from_numpy(lbs_), torch.from_numpy(vars_)).item()\n",
    "    nll_list.append(nll)\n",
    "nll_avg = np.mean(nll_list)\n",
    "print(nll_list, nll_avg)"
   ],
   "metadata": {
    "collapsed": false,
    "ExecuteTime": {
     "start_time": "2023-05-21T17:32:02.420918Z",
     "end_time": "2023-05-21T17:32:02.424775Z"
    }
   }
  }
 ],
 "metadata": {
  "kernelspec": {
   "display_name": "base",
   "language": "python",
   "name": "python3"
  },
  "language_info": {
   "codemirror_mode": {
    "name": "ipython",
    "version": 3
   },
   "file_extension": ".py",
   "mimetype": "text/x-python",
   "name": "python",
   "nbconvert_exporter": "python",
   "pygments_lexer": "ipython3",
   "version": "3.10.10"
  },
  "orig_nbformat": 4
 },
 "nbformat": 4,
 "nbformat_minor": 2
}
