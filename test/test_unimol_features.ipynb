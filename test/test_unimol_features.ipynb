{
 "cells": [
  {
   "cell_type": "code",
   "execution_count": 1,
   "metadata": {
    "collapsed": true,
    "ExecuteTime": {
     "end_time": "2023-05-17T19:26:07.675476Z",
     "start_time": "2023-05-17T19:26:02.290562Z"
    }
   },
   "outputs": [],
   "source": [
    "import lmdb\n",
    "import pickle\n",
    "import logging\n",
    "import numpy as np\n",
    "\n",
    "from mubench.unimol.dataset import Dataset, Dictionary\n",
    "from mubench.unimol.args import Arguments, Config\n",
    "from mubench.unimol.train import Trainer\n",
    "from seqlbtoolkit.io import set_logging\n",
    "logger = logging.getLogger(__name__)\n",
    "set_logging()\n",
    "\n"
   ]
  },
  {
   "cell_type": "code",
   "execution_count": 28,
   "outputs": [],
   "source": [
    "lmdb_path = \"../data/UniMol/bbbp/test.lmdb\"\n",
    "\n",
    "env = lmdb.open(\n",
    "    lmdb_path,\n",
    "    subdir=False,\n",
    "    readonly=True,\n",
    "    lock=False,\n",
    "    readahead=False,\n",
    "    meminit=False,\n",
    "    max_readers=256,\n",
    ")\n",
    "txn = env.begin()\n",
    "keys = list(txn.cursor().iternext(values=False))\n",
    "atoms = list()\n",
    "for idx in keys:\n",
    "    datapoint_pickled = txn.get(idx)\n",
    "    data = pickle.loads(datapoint_pickled)\n",
    "    atoms.append(data['atoms'])\n"
   ],
   "metadata": {
    "collapsed": false,
    "ExecuteTime": {
     "end_time": "2023-05-17T18:59:40.116066Z",
     "start_time": "2023-05-17T18:59:40.106889Z"
    }
   }
  },
  {
   "cell_type": "code",
   "execution_count": 3,
   "outputs": [
    {
     "data": {
      "text/plain": "dict_keys(['atoms', 'coordinates', 'smi', 'scaffold', 'target', 'ori_index'])"
     },
     "execution_count": 3,
     "metadata": {},
     "output_type": "execute_result"
    }
   ],
   "source": [
    "data.keys()"
   ],
   "metadata": {
    "collapsed": false,
    "ExecuteTime": {
     "end_time": "2023-05-17T18:36:26.687300Z",
     "start_time": "2023-05-17T18:36:26.671288Z"
    }
   }
  },
  {
   "cell_type": "code",
   "execution_count": 6,
   "outputs": [
    {
     "data": {
      "text/plain": "11"
     },
     "execution_count": 6,
     "metadata": {},
     "output_type": "execute_result"
    }
   ],
   "source": [
    "len(data['coordinates'])"
   ],
   "metadata": {
    "collapsed": false,
    "ExecuteTime": {
     "end_time": "2023-05-17T18:36:45.517598Z",
     "start_time": "2023-05-17T18:36:45.510102Z"
    }
   }
  },
  {
   "cell_type": "code",
   "execution_count": 7,
   "outputs": [
    {
     "data": {
      "text/plain": "array([[ 0.00000000e+00,  0.00000000e+00,  0.00000000e+00],\n       [ 4.13874388e+00,  8.36681604e-01, -1.93393874e+00],\n       [ 3.87932706e+00,  6.15548968e-01, -4.43261772e-01],\n       [ 4.50011539e+00,  1.80577052e+00,  3.02157730e-01],\n       [ 4.54627991e+00, -6.59684837e-01,  5.64173572e-02],\n       [ 3.97991133e+00, -1.89980412e+00, -6.24157131e-01],\n       [ 2.48020005e+00, -1.84546709e+00, -8.91401887e-01],\n       [ 1.75529277e+00, -8.20943058e-01, -2.73825489e-02],\n       [ 2.36398172e+00,  5.96625924e-01, -1.46932110e-01],\n       [ 3.76855344e-01, -8.25359046e-01, -4.52992111e-01],\n       [-4.90711212e-01, -1.06482200e-01,  3.33370924e-01],\n       [-1.17048204e-01,  4.50198203e-01,  1.36081660e+00],\n       [-1.94614112e+00, -1.22932389e-01, -2.47461498e-01],\n       [-1.83203471e+00, -4.26249385e-01, -1.65821147e+00],\n       [-2.56527090e+00,  1.27631855e+00, -9.88601670e-02],\n       [-2.70801497e+00,  2.14075398e+00, -1.20135677e+00],\n       [-3.25554252e+00,  3.41692853e+00, -1.04858422e+00],\n       [-3.66621399e+00,  3.85638189e+00,  2.06660196e-01],\n       [-3.52961469e+00,  3.02190733e+00,  1.31141734e+00],\n       [-2.98321414e+00,  1.74494064e+00,  1.16248083e+00],\n       [-2.82260704e+00, -1.22673595e+00,  3.68716329e-01],\n       [-4.07473707e+00, -1.51110446e+00, -2.13883206e-01],\n       [-4.90576935e+00, -2.50401568e+00,  3.06614697e-01],\n       [-4.50606251e+00, -3.23016524e+00,  1.42274272e+00],\n       [-3.27873278e+00, -2.95968723e+00,  2.02243400e+00],\n       [-2.44421268e+00, -1.96446657e+00,  1.50454259e+00],\n       [ 3.63630962e+00,  6.08946644e-02, -2.51164675e+00],\n       [ 5.21859598e+00,  8.01304638e-01, -2.10493779e+00],\n       [ 3.74243808e+00,  1.81788039e+00, -2.20982695e+00],\n       [ 3.98921800e+00,  2.71723223e+00, -2.00372860e-02],\n       [ 5.56406403e+00,  1.85086274e+00,  5.26251681e-02],\n       [ 4.36753893e+00,  1.65066111e+00,  1.37648547e+00],\n       [ 5.62454939e+00, -5.74263394e-01, -1.19316891e-01],\n       [ 4.37460136e+00, -7.05383956e-01,  1.13832033e+00],\n       [ 4.20715714e+00, -2.76865172e+00,  5.15436148e-03],\n       [ 4.50360680e+00, -2.07953095e+00, -1.57105434e+00],\n       [ 2.04012084e+00, -2.83955407e+00, -7.41570175e-01],\n       [ 2.29586244e+00, -1.62504327e+00, -1.95048094e+00],\n       [ 1.80409825e+00, -1.16037607e+00,  1.01577151e+00],\n       [ 1.86831021e+00,  1.18941379e+00, -9.23824310e-01],\n       [ 2.21711564e+00,  1.12451553e+00,  8.01605821e-01],\n       [-1.81938004e+00, -1.39535403e+00, -1.73187697e+00],\n       [-2.40253258e+00,  1.82641864e+00, -2.19740224e+00],\n       [-3.36725402e+00,  4.06650734e+00, -1.91296017e+00],\n       [-4.09743023e+00,  4.84755993e+00,  3.23135763e-01],\n       [-3.85085487e+00,  3.36358452e+00,  2.29220486e+00],\n       [-2.88429785e+00,  1.11887109e+00,  2.04837132e+00],\n       [-4.41657972e+00, -9.44740832e-01, -1.08069885e+00],\n       [-5.86964750e+00, -2.70328879e+00, -1.54229805e-01],\n       [-5.15603447e+00, -3.99986076e+00,  1.83281755e+00],\n       [-2.97582078e+00, -3.52081609e+00,  2.90462279e+00],\n       [-1.50853395e+00, -1.77780139e+00,  2.02455568e+00]], dtype=float32)"
     },
     "execution_count": 7,
     "metadata": {},
     "output_type": "execute_result"
    }
   ],
   "source": [
    "data['coordinates'][0]"
   ],
   "metadata": {
    "collapsed": false,
    "ExecuteTime": {
     "end_time": "2023-05-17T18:36:53.712778Z",
     "start_time": "2023-05-17T18:36:53.709841Z"
    }
   }
  },
  {
   "cell_type": "code",
   "execution_count": 8,
   "outputs": [
    {
     "data": {
      "text/plain": "['Br',\n 'C',\n 'N',\n 'C',\n 'C',\n 'C',\n 'C',\n 'C',\n 'C',\n 'O',\n 'C',\n 'O',\n 'C',\n 'O',\n 'C',\n 'C',\n 'C',\n 'C',\n 'C',\n 'C',\n 'C',\n 'C',\n 'C',\n 'C',\n 'C',\n 'C',\n 'H',\n 'H',\n 'H',\n 'H',\n 'H',\n 'H',\n 'H',\n 'H',\n 'H',\n 'H',\n 'H',\n 'H',\n 'H',\n 'H',\n 'H',\n 'H',\n 'H',\n 'H',\n 'H',\n 'H',\n 'H',\n 'H',\n 'H',\n 'H',\n 'H',\n 'H']"
     },
     "execution_count": 8,
     "metadata": {},
     "output_type": "execute_result"
    }
   ],
   "source": [
    "data['atoms']"
   ],
   "metadata": {
    "collapsed": false,
    "ExecuteTime": {
     "end_time": "2023-05-17T18:37:24.827397Z",
     "start_time": "2023-05-17T18:37:24.823924Z"
    }
   }
  },
  {
   "cell_type": "code",
   "execution_count": 2,
   "outputs": [
    {
     "name": "stdout",
     "output_type": "stream",
     "text": [
      "05/17/2023 15:26:10 - INFO - mubench.base.dataset.dataset -   Loading dataset ../data/files/bbbp/valid.csv\n",
      "05/17/2023 15:26:10 - INFO - mubench.base.dataset.dataset -   Creating features\n",
      "../data/UniMol/bbbp/valid.lmdb\n",
      "05/17/2023 15:26:10 - INFO - mubench.unimol.dataset.dataset -   Loading features form pre-processed Uni-Mol LMDB\n"
     ]
    },
    {
     "data": {
      "text/plain": "  0%|          | 0/204 [00:00<?, ?it/s]",
      "application/vnd.jupyter.widget-view+json": {
       "version_major": 2,
       "version_minor": 0,
       "model_id": "7ad51d5df7924a87b29cb9126e74577d"
      }
     },
     "metadata": {},
     "output_type": "display_data"
    },
    {
     "name": "stdout",
     "output_type": "stream",
     "text": [
      "05/17/2023 15:26:10 - INFO - mubench.base.dataset.dataset -   Saving pre-processed dataset\n"
     ]
    }
   ],
   "source": [
    "config = Config()\n",
    "config.data_dir=\"../data/files/bbbp\"\n",
    "config.unimol_feature_dir=\"../data/UniMol/bbbp\"\n",
    "config.num_preprocess_workers=8\n",
    "\n",
    "dictionary = Dictionary.load()\n",
    "dictionary.add_symbol(\"[MASK]\", is_special=True)\n",
    "\n",
    "test_dataset = Dataset().prepare(\n",
    "    config=config,\n",
    "    partition=\"valid\",\n",
    "    dictionary=dictionary\n",
    ")\n"
   ],
   "metadata": {
    "collapsed": false,
    "ExecuteTime": {
     "end_time": "2023-05-17T19:26:10.661310Z",
     "start_time": "2023-05-17T19:26:10.568092Z"
    }
   }
  },
  {
   "cell_type": "code",
   "execution_count": 17,
   "outputs": [
    {
     "data": {
      "text/plain": "204"
     },
     "execution_count": 17,
     "metadata": {},
     "output_type": "execute_result"
    }
   ],
   "source": [
    "len(test_dataset._atoms)"
   ],
   "metadata": {
    "collapsed": false,
    "ExecuteTime": {
     "end_time": "2023-05-17T18:48:46.548728Z",
     "start_time": "2023-05-17T18:48:46.543348Z"
    }
   }
  },
  {
   "cell_type": "code",
   "execution_count": 29,
   "outputs": [
    {
     "data": {
      "text/plain": "204"
     },
     "execution_count": 29,
     "metadata": {},
     "output_type": "execute_result"
    }
   ],
   "source": [
    "len(atoms)"
   ],
   "metadata": {
    "collapsed": false,
    "ExecuteTime": {
     "end_time": "2023-05-17T19:00:00.995728Z",
     "start_time": "2023-05-17T19:00:00.989713Z"
    }
   }
  },
  {
   "cell_type": "code",
   "execution_count": null,
   "outputs": [],
   "source": [],
   "metadata": {
    "collapsed": false
   }
  }
 ],
 "metadata": {
  "kernelspec": {
   "display_name": "Python 3",
   "language": "python",
   "name": "python3"
  },
  "language_info": {
   "codemirror_mode": {
    "name": "ipython",
    "version": 2
   },
   "file_extension": ".py",
   "mimetype": "text/x-python",
   "name": "python",
   "nbconvert_exporter": "python",
   "pygments_lexer": "ipython2",
   "version": "2.7.6"
  }
 },
 "nbformat": 4,
 "nbformat_minor": 0
}
