{
 "cells": [
  {
   "cell_type": "code",
   "execution_count": 8,
   "metadata": {
    "collapsed": true,
    "ExecuteTime": {
     "start_time": "2023-05-05T16:16:10.866196Z",
     "end_time": "2023-05-05T16:16:14.965736Z"
    }
   },
   "outputs": [],
   "source": [
    "import tensorflow as tf\n",
    "import numpy as np\n",
    "from fetch_data import qm9_parse, qm9_fetch\n",
    "\n",
    "import os\n",
    "import sys\n",
    "import torch\n",
    "import logging\n",
    "import glob\n",
    "import pandas as pd\n",
    "from typing import Optional, List\n",
    "from datetime import datetime\n",
    "from dataclasses import dataclass, field\n",
    "\n",
    "from dgllife.data import MoleculeCSVDataset\n",
    "\n",
    "from transformers import HfArgumentParser\n",
    "\n",
    "from mubench.utils.io import set_logging, logging_args, init_dir, save_json\n",
    "from mubench.utils.macro import DATASET_NAMES, SPLITTING, QM9_PROPERTIES\n",
    "\n"
   ]
  },
  {
   "cell_type": "code",
   "execution_count": 9,
   "outputs": [],
   "source": [
    "dataset_path = os.path.join('../data/MoleculeNet/qm9.csv')\n",
    "df = pd.read_csv(dataset_path)\n"
   ],
   "metadata": {
    "collapsed": false,
    "ExecuteTime": {
     "start_time": "2023-05-05T16:16:17.217296Z",
     "end_time": "2023-05-05T16:16:17.486524Z"
    }
   }
  },
  {
   "cell_type": "code",
   "execution_count": 12,
   "outputs": [
    {
     "name": "stdout",
     "output_type": "stream",
     "text": [
      "Processing dgl graphs from scratch...\n"
     ]
    },
    {
     "name": "stderr",
     "output_type": "stream",
     "text": [
      "[Parallel(n_jobs=8)]: Using backend LokyBackend with 8 concurrent workers.\n",
      "[Parallel(n_jobs=8)]: Done  34 tasks      | elapsed:    2.4s\n",
      "[Parallel(n_jobs=8)]: Done 7184 tasks      | elapsed:    4.3s\n",
      "[Parallel(n_jobs=8)]: Done 39184 tasks      | elapsed:   12.4s\n",
      "[Parallel(n_jobs=8)]: Done 83984 tasks      | elapsed:   25.3s\n",
      "[Parallel(n_jobs=8)]: Done 133730 tasks      | elapsed:   48.6s\n",
      "[Parallel(n_jobs=8)]: Done 133885 out of 133885 | elapsed:   48.9s finished\n"
     ]
    }
   ],
   "source": [
    "dataset = MoleculeCSVDataset(df=df,\n",
    "                             smiles_to_graph=None,\n",
    "                             node_featurizer=None,\n",
    "                             edge_featurizer=None,\n",
    "                             smiles_column='smiles',\n",
    "                             cache_file_path='./qm9_dglgraph.bin',\n",
    "                             task_names=QM9_PROPERTIES,\n",
    "                             load=False,\n",
    "                             log_every=1000,\n",
    "                             init_mask=False,\n",
    "                             n_jobs=8)"
   ],
   "metadata": {
    "collapsed": false,
    "ExecuteTime": {
     "start_time": "2023-05-05T16:19:18.410958Z",
     "end_time": "2023-05-05T16:20:15.292379Z"
    }
   }
  },
  {
   "cell_type": "code",
   "execution_count": 13,
   "outputs": [
    {
     "data": {
      "text/plain": "torch.Tensor"
     },
     "execution_count": 13,
     "metadata": {},
     "output_type": "execute_result"
    }
   ],
   "source": [
    "type(dataset.labels)"
   ],
   "metadata": {
    "collapsed": false,
    "ExecuteTime": {
     "start_time": "2023-05-05T16:20:42.831159Z",
     "end_time": "2023-05-05T16:20:42.835653Z"
    }
   }
  },
  {
   "cell_type": "code",
   "execution_count": 16,
   "outputs": [
    {
     "data": {
      "text/plain": "torch.Size([133885, 12])"
     },
     "execution_count": 16,
     "metadata": {},
     "output_type": "execute_result"
    }
   ],
   "source": [
    "dataset.labels.size()"
   ],
   "metadata": {
    "collapsed": false,
    "ExecuteTime": {
     "start_time": "2023-05-05T16:21:06.460939Z",
     "end_time": "2023-05-05T16:21:06.464079Z"
    }
   }
  },
  {
   "cell_type": "code",
   "execution_count": 1,
   "outputs": [],
   "source": [
    "from rdkit import Chem"
   ],
   "metadata": {
    "collapsed": false,
    "ExecuteTime": {
     "start_time": "2023-05-08T14:00:23.537813Z",
     "end_time": "2023-05-08T14:00:24.288419Z"
    }
   }
  },
  {
   "cell_type": "code",
   "execution_count": 1,
   "outputs": [
    {
     "name": "stderr",
     "output_type": "stream",
     "text": [
      "Skipped loading modules with pytorch-geometric dependency, missing a dependency. No module named 'torch_geometric'\n",
      "Skipped loading modules with pytorch-geometric dependency, missing a dependency. cannot import name 'DMPNN' from 'deepchem.models.torch_models' (/Users/yli/opt/miniconda3/envs/py39/lib/python3.9/site-packages/deepchem/models/torch_models/__init__.py)\n",
      "Skipped loading modules with pytorch-lightning dependency, missing a dependency. No module named 'pytorch_lightning'\n",
      "Skipped loading some Jax models, missing a dependency. No module named 'haiku'\n"
     ]
    }
   ],
   "source": [
    "import deepchem as dc\n",
    "from deepchem.feat.molecule_featurizers import MolGraphConvFeaturizer\n",
    "\n",
    "# featurizer = MolGraphConvFeaturizer(use_edges=True)\n",
    "dataset_dc = dc.molnet.load_qm7(splitter=None)\n",
    "\n",
    "# tasks, dataset, transformers = dataset_dc\n",
    "# train, valid, test = dataset\n",
    "\n",
    "# x,y,w,ids = train.X, train.y, train.w, train.ids"
   ],
   "metadata": {
    "collapsed": false,
    "ExecuteTime": {
     "start_time": "2023-05-08T14:21:13.350753Z",
     "end_time": "2023-05-08T14:21:18.270242Z"
    }
   }
  },
  {
   "cell_type": "code",
   "execution_count": 2,
   "outputs": [],
   "source": [
    "tasks, dataset, transformers = dataset_dc"
   ],
   "metadata": {
    "collapsed": false,
    "ExecuteTime": {
     "start_time": "2023-05-08T14:21:24.392873Z",
     "end_time": "2023-05-08T14:21:24.397351Z"
    }
   }
  },
  {
   "cell_type": "code",
   "execution_count": 3,
   "outputs": [
    {
     "data": {
      "text/plain": "['u0_atom']"
     },
     "execution_count": 3,
     "metadata": {},
     "output_type": "execute_result"
    }
   ],
   "source": [
    "tasks"
   ],
   "metadata": {
    "collapsed": false,
    "ExecuteTime": {
     "start_time": "2023-05-08T14:21:25.124084Z",
     "end_time": "2023-05-08T14:21:25.128423Z"
    }
   }
  },
  {
   "cell_type": "code",
   "execution_count": 4,
   "outputs": [
    {
     "data": {
      "text/plain": "(<DiskDataset X.shape: (6838, 23, 23), y.shape: (6838, 1), w.shape: (6838, 1), task_names: ['u0_atom']>,)"
     },
     "execution_count": 4,
     "metadata": {},
     "output_type": "execute_result"
    }
   ],
   "source": [
    "dataset"
   ],
   "metadata": {
    "collapsed": false,
    "ExecuteTime": {
     "start_time": "2023-05-08T14:21:26.952508Z",
     "end_time": "2023-05-08T14:21:26.959577Z"
    }
   }
  },
  {
   "cell_type": "code",
   "execution_count": 8,
   "outputs": [
    {
     "data": {
      "text/plain": "deepchem.data.datasets.DiskDataset"
     },
     "execution_count": 8,
     "metadata": {},
     "output_type": "execute_result"
    }
   ],
   "source": [
    "type(dataset[0])"
   ],
   "metadata": {
    "collapsed": false,
    "ExecuteTime": {
     "start_time": "2023-05-08T14:21:49.676712Z",
     "end_time": "2023-05-08T14:21:49.680311Z"
    }
   }
  },
  {
   "cell_type": "code",
   "execution_count": 9,
   "outputs": [
    {
     "data": {
      "text/plain": "((6838, 23, 23), (6838, 1), (6838, 1), (6838,))"
     },
     "execution_count": 9,
     "metadata": {},
     "output_type": "execute_result"
    }
   ],
   "source": [
    "dataset[0].get_shape()"
   ],
   "metadata": {
    "collapsed": false,
    "ExecuteTime": {
     "start_time": "2023-05-08T14:22:00.850758Z",
     "end_time": "2023-05-08T14:22:00.854423Z"
    }
   }
  }
 ],
 "metadata": {
  "kernelspec": {
   "display_name": "Python 3",
   "language": "python",
   "name": "python3"
  },
  "language_info": {
   "codemirror_mode": {
    "name": "ipython",
    "version": 2
   },
   "file_extension": ".py",
   "mimetype": "text/x-python",
   "name": "python",
   "nbconvert_exporter": "python",
   "pygments_lexer": "ipython2",
   "version": "2.7.6"
  }
 },
 "nbformat": 4,
 "nbformat_minor": 0
}
