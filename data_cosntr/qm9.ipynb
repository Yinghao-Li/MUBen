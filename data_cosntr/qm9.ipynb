{
 "cells": [
  {
   "cell_type": "code",
   "execution_count": 1,
   "metadata": {
    "collapsed": true,
    "ExecuteTime": {
     "start_time": "2023-05-04T13:44:54.785106Z",
     "end_time": "2023-05-04T13:45:00.115617Z"
    }
   },
   "outputs": [],
   "source": [
    "import tensorflow as tf\n",
    "import numpy as np\n",
    "from fetch_data import qm9_parse, qm9_fetch"
   ]
  },
  {
   "cell_type": "code",
   "execution_count": 3,
   "outputs": [
    {
     "name": "stdout",
     "output_type": "stream",
     "text": [
      "Downloading qm9 data...File downloaded\n",
      "\n",
      " 2.09%"
     ]
    },
    {
     "ename": "KeyboardInterrupt",
     "evalue": "",
     "output_type": "error",
     "traceback": [
      "\u001B[0;31m---------------------------------------------------------------------------\u001B[0m",
      "\u001B[0;31mKeyboardInterrupt\u001B[0m                         Traceback (most recent call last)",
      "Cell \u001B[0;32mIn[3], line 1\u001B[0m\n\u001B[0;32m----> 1\u001B[0m qm9_records \u001B[38;5;241m=\u001B[39m \u001B[43mqm9_fetch\u001B[49m\u001B[43m(\u001B[49m\u001B[43m)\u001B[49m\n\u001B[1;32m      2\u001B[0m data \u001B[38;5;241m=\u001B[39m qm9_parse(qm9_records)\n",
      "File \u001B[0;32m~/GitHub/UncertaintyBenchmark/data_cosntr/fetch_data.py:135\u001B[0m, in \u001B[0;36mqm9_fetch\u001B[0;34m()\u001B[0m\n\u001B[1;32m    133\u001B[0m \u001B[38;5;28;01mif\u001B[39;00m i \u001B[38;5;241m%\u001B[39m \u001B[38;5;241m100\u001B[39m \u001B[38;5;241m==\u001B[39m \u001B[38;5;241m0\u001B[39m:\n\u001B[1;32m    134\u001B[0m     \u001B[38;5;28mprint\u001B[39m(\u001B[38;5;124m\"\u001B[39m\u001B[38;5;130;01m\\r\u001B[39;00m\u001B[38;5;124m \u001B[39m\u001B[38;5;132;01m{:.2%}\u001B[39;00m\u001B[38;5;124m\"\u001B[39m\u001B[38;5;241m.\u001B[39mformat(i \u001B[38;5;241m/\u001B[39m \u001B[38;5;241m133886\u001B[39m), end\u001B[38;5;241m=\u001B[39m\u001B[38;5;124m\"\u001B[39m\u001B[38;5;124m\"\u001B[39m)\n\u001B[0;32m--> 135\u001B[0m \u001B[38;5;28;01mwith\u001B[39;00m \u001B[43mtar\u001B[49m\u001B[38;5;241;43m.\u001B[39;49m\u001B[43mextractfile\u001B[49m\u001B[43m(\u001B[49m\u001B[38;5;124;43mf\u001B[39;49m\u001B[38;5;124;43m\"\u001B[39;49m\u001B[38;5;124;43mdsgdb9nsd_\u001B[39;49m\u001B[38;5;132;43;01m{\u001B[39;49;00m\u001B[43mi\u001B[49m\u001B[38;5;132;43;01m:\u001B[39;49;00m\u001B[38;5;124;43m06d\u001B[39;49m\u001B[38;5;132;43;01m}\u001B[39;49;00m\u001B[38;5;124;43m.xyz\u001B[39;49m\u001B[38;5;124;43m\"\u001B[39;49m\u001B[43m)\u001B[49m \u001B[38;5;28;01mas\u001B[39;00m f:\n\u001B[1;32m    136\u001B[0m     lines \u001B[38;5;241m=\u001B[39m [l\u001B[38;5;241m.\u001B[39mdecode(\u001B[38;5;124m\"\u001B[39m\u001B[38;5;124mUTF-8\u001B[39m\u001B[38;5;124m\"\u001B[39m) \u001B[38;5;28;01mfor\u001B[39;00m l \u001B[38;5;129;01min\u001B[39;00m f\u001B[38;5;241m.\u001B[39mreadlines()]\n\u001B[1;32m    137\u001B[0m     \u001B[38;5;28;01mtry\u001B[39;00m:\n",
      "File \u001B[0;32m~/opt/miniconda3/envs/py39/lib/python3.9/tarfile.py:2113\u001B[0m, in \u001B[0;36mTarFile.extractfile\u001B[0;34m(self, member)\u001B[0m\n\u001B[1;32m   2110\u001B[0m \u001B[38;5;28mself\u001B[39m\u001B[38;5;241m.\u001B[39m_check(\u001B[38;5;124m\"\u001B[39m\u001B[38;5;124mr\u001B[39m\u001B[38;5;124m\"\u001B[39m)\n\u001B[1;32m   2112\u001B[0m \u001B[38;5;28;01mif\u001B[39;00m \u001B[38;5;28misinstance\u001B[39m(member, \u001B[38;5;28mstr\u001B[39m):\n\u001B[0;32m-> 2113\u001B[0m     tarinfo \u001B[38;5;241m=\u001B[39m \u001B[38;5;28;43mself\u001B[39;49m\u001B[38;5;241;43m.\u001B[39;49m\u001B[43mgetmember\u001B[49m\u001B[43m(\u001B[49m\u001B[43mmember\u001B[49m\u001B[43m)\u001B[49m\n\u001B[1;32m   2114\u001B[0m \u001B[38;5;28;01melse\u001B[39;00m:\n\u001B[1;32m   2115\u001B[0m     tarinfo \u001B[38;5;241m=\u001B[39m member\n",
      "File \u001B[0;32m~/opt/miniconda3/envs/py39/lib/python3.9/tarfile.py:1797\u001B[0m, in \u001B[0;36mTarFile.getmember\u001B[0;34m(self, name)\u001B[0m\n\u001B[1;32m   1791\u001B[0m \u001B[38;5;28;01mdef\u001B[39;00m \u001B[38;5;21mgetmember\u001B[39m(\u001B[38;5;28mself\u001B[39m, name):\n\u001B[1;32m   1792\u001B[0m     \u001B[38;5;124;03m\"\"\"Return a TarInfo object for member `name'. If `name' can not be\u001B[39;00m\n\u001B[1;32m   1793\u001B[0m \u001B[38;5;124;03m       found in the archive, KeyError is raised. If a member occurs more\u001B[39;00m\n\u001B[1;32m   1794\u001B[0m \u001B[38;5;124;03m       than once in the archive, its last occurrence is assumed to be the\u001B[39;00m\n\u001B[1;32m   1795\u001B[0m \u001B[38;5;124;03m       most up-to-date version.\u001B[39;00m\n\u001B[1;32m   1796\u001B[0m \u001B[38;5;124;03m    \"\"\"\u001B[39;00m\n\u001B[0;32m-> 1797\u001B[0m     tarinfo \u001B[38;5;241m=\u001B[39m \u001B[38;5;28;43mself\u001B[39;49m\u001B[38;5;241;43m.\u001B[39;49m\u001B[43m_getmember\u001B[49m\u001B[43m(\u001B[49m\u001B[43mname\u001B[49m\u001B[38;5;241;43m.\u001B[39;49m\u001B[43mrstrip\u001B[49m\u001B[43m(\u001B[49m\u001B[38;5;124;43m'\u001B[39;49m\u001B[38;5;124;43m/\u001B[39;49m\u001B[38;5;124;43m'\u001B[39;49m\u001B[43m)\u001B[49m\u001B[43m)\u001B[49m\n\u001B[1;32m   1798\u001B[0m     \u001B[38;5;28;01mif\u001B[39;00m tarinfo \u001B[38;5;129;01mis\u001B[39;00m \u001B[38;5;28;01mNone\u001B[39;00m:\n\u001B[1;32m   1799\u001B[0m         \u001B[38;5;28;01mraise\u001B[39;00m \u001B[38;5;167;01mKeyError\u001B[39;00m(\u001B[38;5;124m\"\u001B[39m\u001B[38;5;124mfilename \u001B[39m\u001B[38;5;132;01m%r\u001B[39;00m\u001B[38;5;124m not found\u001B[39m\u001B[38;5;124m\"\u001B[39m \u001B[38;5;241m%\u001B[39m name)\n",
      "File \u001B[0;32m~/opt/miniconda3/envs/py39/lib/python3.9/tarfile.py:2396\u001B[0m, in \u001B[0;36mTarFile._getmember\u001B[0;34m(self, name, tarinfo, normalize)\u001B[0m\n\u001B[1;32m   2394\u001B[0m     member_name \u001B[38;5;241m=\u001B[39m os\u001B[38;5;241m.\u001B[39mpath\u001B[38;5;241m.\u001B[39mnormpath(member\u001B[38;5;241m.\u001B[39mname)\n\u001B[1;32m   2395\u001B[0m \u001B[38;5;28;01melse\u001B[39;00m:\n\u001B[0;32m-> 2396\u001B[0m     member_name \u001B[38;5;241m=\u001B[39m \u001B[43mmember\u001B[49m\u001B[38;5;241;43m.\u001B[39;49m\u001B[43mname\u001B[49m\n\u001B[1;32m   2398\u001B[0m \u001B[38;5;28;01mif\u001B[39;00m name \u001B[38;5;241m==\u001B[39m member_name:\n\u001B[1;32m   2399\u001B[0m     \u001B[38;5;28;01mreturn\u001B[39;00m member\n",
      "\u001B[0;31mKeyboardInterrupt\u001B[0m: "
     ]
    }
   ],
   "source": [
    "qm9_records = qm9_fetch()\n",
    "data = qm9_parse(qm9_records)"
   ],
   "metadata": {
    "collapsed": false
   }
  },
  {
   "cell_type": "code",
   "execution_count": 4,
   "outputs": [],
   "source": [
    "from rdkit import Chem\n",
    "import networkx as nx"
   ],
   "metadata": {
    "collapsed": false,
    "ExecuteTime": {
     "start_time": "2023-05-04T14:11:15.888611Z",
     "end_time": "2023-05-04T14:11:17.065908Z"
    }
   }
  },
  {
   "cell_type": "code",
   "execution_count": 12,
   "outputs": [],
   "source": [
    "smiles = 'O'\n",
    "mol = Chem.MolFromSmiles(smiles)\n",
    "\n",
    "# Get adjacency matrix\n",
    "adjacency_matrix = Chem.GetAdjacencyMatrix(mol, useBO = True)\n",
    "\n",
    "# Convert adjacency matrix to NetworkX graph\n",
    "G = nx.from_numpy_array(adjacency_matrix)"
   ],
   "metadata": {
    "collapsed": false,
    "ExecuteTime": {
     "start_time": "2023-05-04T14:12:36.931898Z",
     "end_time": "2023-05-04T14:12:36.935070Z"
    }
   }
  },
  {
   "cell_type": "code",
   "execution_count": 13,
   "outputs": [
    {
     "data": {
      "text/plain": "<rdkit.Chem.rdchem.Mol at 0x29a6ebe40>",
      "image/png": "[encoded data removed]"
     },
     "execution_count": 13,
     "metadata": {},
     "output_type": "execute_result"
    }
   ],
   "source": [
    "mol"
   ],
   "metadata": {
    "collapsed": false,
    "ExecuteTime": {
     "start_time": "2023-05-04T14:12:37.210455Z",
     "end_time": "2023-05-04T14:12:37.213786Z"
    }
   }
  },
  {
   "cell_type": "code",
   "execution_count": 14,
   "outputs": [],
   "source": [
    "\n",
    "suppl = Chem.SDMolSupplier('gdb9/gdb9.sdf') # name the path of the SDF file\n"
   ],
   "metadata": {
    "collapsed": false,
    "ExecuteTime": {
     "start_time": "2023-05-04T14:19:49.320415Z",
     "end_time": "2023-05-04T14:19:49.323373Z"
    }
   }
  },
  {
   "cell_type": "code",
   "execution_count": 16,
   "outputs": [
    {
     "name": "stdout",
     "output_type": "stream",
     "text": [
      "1\n"
     ]
    }
   ],
   "source": [
    "for mol in suppl:\n",
    "    print(mol.GetNumAtoms()) # give the number of atoms in each molecule\n",
    "    break"
   ],
   "metadata": {
    "collapsed": false,
    "ExecuteTime": {
     "start_time": "2023-05-04T14:20:15.592333Z",
     "end_time": "2023-05-04T14:20:15.595689Z"
    }
   }
  },
  {
   "cell_type": "code",
   "execution_count": 18,
   "outputs": [
    {
     "data": {
      "text/plain": "rdkit.Chem.rdchem.Mol"
     },
     "execution_count": 18,
     "metadata": {},
     "output_type": "execute_result"
    }
   ],
   "source": [
    "type(mol)"
   ],
   "metadata": {
    "collapsed": false,
    "ExecuteTime": {
     "start_time": "2023-05-04T14:20:36.727806Z",
     "end_time": "2023-05-04T14:20:36.732541Z"
    }
   }
  },
  {
   "cell_type": "code",
   "execution_count": 19,
   "outputs": [
    {
     "data": {
      "text/plain": "<rdkit.Chem.rdchem._ROAtomSeq at 0x29c0d6040>"
     },
     "execution_count": 19,
     "metadata": {},
     "output_type": "execute_result"
    }
   ],
   "source": [
    "mol.GetAtoms()"
   ],
   "metadata": {
    "collapsed": false,
    "ExecuteTime": {
     "start_time": "2023-05-04T14:21:41.327311Z",
     "end_time": "2023-05-04T14:21:41.334981Z"
    }
   }
  },
  {
   "cell_type": "code",
   "execution_count": 20,
   "outputs": [
    {
     "name": "stdout",
     "output_type": "stream",
     "text": [
      "C -0.0127 1.0858 0.008\n"
     ]
    }
   ],
   "source": [
    "for i, atom in enumerate(mol.GetAtoms()):\n",
    "    positions = mol.GetConformer().GetAtomPosition(i)\n",
    "    print(atom.GetSymbol(), positions.x, positions.y, positions.z)"
   ],
   "metadata": {
    "collapsed": false,
    "ExecuteTime": {
     "start_time": "2023-05-04T14:22:12.472838Z",
     "end_time": "2023-05-04T14:22:12.476497Z"
    }
   }
  },
  {
   "cell_type": "code",
   "execution_count": 21,
   "outputs": [
    {
     "data": {
      "text/plain": "1"
     },
     "execution_count": 21,
     "metadata": {},
     "output_type": "execute_result"
    }
   ],
   "source": [
    "mol.GetNumAtoms()"
   ],
   "metadata": {
    "collapsed": false,
    "ExecuteTime": {
     "start_time": "2023-05-04T14:23:32.353846Z",
     "end_time": "2023-05-04T14:23:32.361132Z"
    }
   }
  },
  {
   "cell_type": "code",
   "execution_count": 23,
   "outputs": [
    {
     "ename": "AttributeError",
     "evalue": "'Mol' object has no attribute 'GetAtomPosition'",
     "output_type": "error",
     "traceback": [
      "\u001B[0;31m---------------------------------------------------------------------------\u001B[0m",
      "\u001B[0;31mAttributeError\u001B[0m                            Traceback (most recent call last)",
      "Cell \u001B[0;32mIn[23], line 1\u001B[0m\n\u001B[0;32m----> 1\u001B[0m \u001B[43mmol\u001B[49m\u001B[38;5;241;43m.\u001B[39;49m\u001B[43mGetAtomPosition\u001B[49m()\n",
      "\u001B[0;31mAttributeError\u001B[0m: 'Mol' object has no attribute 'GetAtomPosition'"
     ]
    }
   ],
   "source": [
    "mol.GetAtomPosition()"
   ],
   "metadata": {
    "collapsed": false
   }
  },
  {
   "cell_type": "code",
   "execution_count": 29,
   "outputs": [],
   "source": [
    "text = suppl.GetItemText(0)"
   ],
   "metadata": {
    "collapsed": false,
    "ExecuteTime": {
     "start_time": "2023-05-04T14:31:11.007612Z",
     "end_time": "2023-05-04T14:31:11.011199Z"
    }
   }
  },
  {
   "cell_type": "code",
   "execution_count": 30,
   "outputs": [],
   "source": [
    "num_atoms = mol.GetNumAtoms()\n",
    "pos = text.split('\\n')[4:4 + num_atoms]\n",
    "pos = [[float(x) for x in line.split()[:3]] for line in pos]"
   ],
   "metadata": {
    "collapsed": false,
    "ExecuteTime": {
     "start_time": "2023-05-04T14:31:26.826121Z",
     "end_time": "2023-05-04T14:31:26.832227Z"
    }
   }
  },
  {
   "cell_type": "code",
   "execution_count": 31,
   "outputs": [
    {
     "data": {
      "text/plain": "[[-0.0127, 1.0858, 0.008]]"
     },
     "execution_count": 31,
     "metadata": {},
     "output_type": "execute_result"
    }
   ],
   "source": [
    "pos"
   ],
   "metadata": {
    "collapsed": false,
    "ExecuteTime": {
     "start_time": "2023-05-04T14:31:28.466332Z",
     "end_time": "2023-05-04T14:31:28.479032Z"
    }
   }
  },
  {
   "cell_type": "code",
   "execution_count": 33,
   "outputs": [],
   "source": [
    "p = mol.GetConformer().GetAtomPosition(0)"
   ],
   "metadata": {
    "collapsed": false,
    "ExecuteTime": {
     "start_time": "2023-05-04T14:32:19.858541Z",
     "end_time": "2023-05-04T14:32:19.863754Z"
    }
   }
  },
  {
   "cell_type": "code",
   "execution_count": 34,
   "outputs": [
    {
     "data": {
      "text/plain": "-0.0127"
     },
     "execution_count": 34,
     "metadata": {},
     "output_type": "execute_result"
    }
   ],
   "source": [
    "p.x"
   ],
   "metadata": {
    "collapsed": false,
    "ExecuteTime": {
     "start_time": "2023-05-04T14:32:24.699980Z",
     "end_time": "2023-05-04T14:32:24.706993Z"
    }
   }
  },
  {
   "cell_type": "code",
   "execution_count": 35,
   "outputs": [
    {
     "data": {
      "text/plain": "1.0858"
     },
     "execution_count": 35,
     "metadata": {},
     "output_type": "execute_result"
    }
   ],
   "source": [
    "p.y"
   ],
   "metadata": {
    "collapsed": false,
    "ExecuteTime": {
     "start_time": "2023-05-04T14:32:26.608577Z",
     "end_time": "2023-05-04T14:32:26.615190Z"
    }
   }
  },
  {
   "cell_type": "code",
   "execution_count": 36,
   "outputs": [
    {
     "data": {
      "text/plain": "0.008"
     },
     "execution_count": 36,
     "metadata": {},
     "output_type": "execute_result"
    }
   ],
   "source": [
    "p.z"
   ],
   "metadata": {
    "collapsed": false,
    "ExecuteTime": {
     "start_time": "2023-05-04T14:32:28.681586Z",
     "end_time": "2023-05-04T14:32:28.687907Z"
    }
   }
  },
  {
   "cell_type": "code",
   "execution_count": null,
   "outputs": [],
   "source": [],
   "metadata": {
    "collapsed": false
   }
  }
 ],
 "metadata": {
  "kernelspec": {
   "display_name": "Python 3",
   "language": "python",
   "name": "python3"
  },
  "language_info": {
   "codemirror_mode": {
    "name": "ipython",
    "version": 2
   },
   "file_extension": ".py",
   "mimetype": "text/x-python",
   "name": "python",
   "nbconvert_exporter": "python",
   "pygments_lexer": "ipython2",
   "version": "2.7.6"
  }
 },
 "nbformat": 4,
 "nbformat_minor": 0
}
