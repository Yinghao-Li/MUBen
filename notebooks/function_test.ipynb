{
 "cells": [
  {
   "cell_type": "code",
   "execution_count": 1,
   "metadata": {
    "collapsed": true,
    "ExecuteTime": {
     "start_time": "2023-04-17T18:51:05.344705Z",
     "end_time": "2023-04-17T18:51:08.882773Z"
    }
   },
   "outputs": [],
   "source": [
    "\n",
    "import os\n",
    "import torch\n",
    "import logging\n",
    "import torch.nn as nn\n",
    "import numpy as np\n",
    "from rdkit import Chem, DataStructs\n",
    "from rdkit.Chem import AllChem\n",
    "from enum import Enum\n",
    "from functools import cached_property\n",
    "from mubench.base.model import DNN\n",
    "from mubench.base.dataset import Dataset\n",
    "from mubench.base.args import Config\n",
    "from mubench.utils.scaler import StandardScaler\n",
    "import random\n",
    "np.random.seed(0)\n",
    "random.seed(0)\n",
    "\n",
    "logger = logging.getLogger(__name__)\n",
    "\n"
   ]
  },
  {
   "cell_type": "code",
   "execution_count": 7,
   "outputs": [
    {
     "data": {
      "text/plain": "Parameter containing:\ntensor([[-0.5555, -0.0275, -0.1882],\n        [-0.2849,  0.0161,  0.3442],\n        [-0.0168,  0.4689,  0.0360],\n        [ 0.5189,  0.0420,  0.2832]], requires_grad=True)"
     },
     "execution_count": 7,
     "metadata": {},
     "output_type": "execute_result"
    }
   ],
   "source": [
    "test = nn.Linear(3, 4)\n",
    "test.weight"
   ],
   "metadata": {
    "collapsed": false,
    "ExecuteTime": {
     "start_time": "2023-04-17T18:53:10.724463Z",
     "end_time": "2023-04-17T18:53:10.727956Z"
    }
   }
  },
  {
   "cell_type": "code",
   "execution_count": 4,
   "outputs": [
    {
     "data": {
      "text/plain": "Parameter containing:\ntensor([[ 0.0792, -0.0905,  0.0283],\n        [-0.0177,  0.0316,  0.0070],\n        [ 0.0262,  0.0587, -0.0584],\n        [ 0.0720, -0.0455, -0.0145]], requires_grad=True)"
     },
     "execution_count": 4,
     "metadata": {},
     "output_type": "execute_result"
    }
   ],
   "source": [
    "nn.init.uniform_(test.weight, -0.1, 0.1)"
   ],
   "metadata": {
    "collapsed": false,
    "ExecuteTime": {
     "start_time": "2023-04-17T18:52:49.141686Z",
     "end_time": "2023-04-17T18:52:49.147176Z"
    }
   }
  },
  {
   "cell_type": "code",
   "execution_count": 6,
   "outputs": [
    {
     "data": {
      "text/plain": "Parameter containing:\ntensor([[ 0.0792, -0.0905,  0.0283],\n        [-0.0177,  0.0316,  0.0070],\n        [ 0.0262,  0.0587, -0.0584],\n        [ 0.0720, -0.0455, -0.0145]], requires_grad=True)"
     },
     "execution_count": 6,
     "metadata": {},
     "output_type": "execute_result"
    }
   ],
   "source": [
    "test.weight"
   ],
   "metadata": {
    "collapsed": false,
    "ExecuteTime": {
     "start_time": "2023-04-17T18:52:56.521490Z",
     "end_time": "2023-04-17T18:52:56.525856Z"
    }
   }
  },
  {
   "cell_type": "code",
   "execution_count": 16,
   "outputs": [
    {
     "data": {
      "text/plain": "Parameter containing:\ntensor([[-0.0226,  0.0222,  0.0482, -0.0616],\n        [-0.0245,  0.0802,  0.0117, -0.0028],\n        [-0.0164,  0.0994,  0.0806, -0.0510]], requires_grad=True)"
     },
     "execution_count": 16,
     "metadata": {},
     "output_type": "execute_result"
    }
   ],
   "source": [
    "w_mu = nn.Parameter(torch.empty(3, 4))\n",
    "w_p = nn.Parameter(torch.empty(3, 4))\n",
    "nn.init.uniform_(w_mu, -0.1, 0.1)\n"
   ],
   "metadata": {
    "collapsed": false,
    "ExecuteTime": {
     "start_time": "2023-04-17T19:01:26.968138Z",
     "end_time": "2023-04-17T19:01:26.972443Z"
    }
   }
  },
  {
   "cell_type": "code",
   "execution_count": null,
   "outputs": [],
   "source": [],
   "metadata": {
    "collapsed": false
   }
  }
 ],
 "metadata": {
  "kernelspec": {
   "display_name": "Python 3",
   "language": "python",
   "name": "python3"
  },
  "language_info": {
   "codemirror_mode": {
    "name": "ipython",
    "version": 2
   },
   "file_extension": ".py",
   "mimetype": "text/x-python",
   "name": "python",
   "nbconvert_exporter": "python",
   "pygments_lexer": "ipython2",
   "version": "2.7.6"
  }
 },
 "nbformat": 4,
 "nbformat_minor": 0
}
