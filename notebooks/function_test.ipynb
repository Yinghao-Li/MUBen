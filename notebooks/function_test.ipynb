{
 "cells": [
  {
   "cell_type": "code",
   "execution_count": 1,
   "metadata": {
    "collapsed": true
   },
   "outputs": [],
   "source": [
    "\n",
    "import os\n",
    "import torch\n",
    "import logging\n",
    "import torch.nn as nn\n",
    "import numpy as np\n",
    "from rdkit import Chem, DataStructs\n",
    "from rdkit.Chem import AllChem\n",
    "from enum import Enum\n",
    "from functools import cached_property\n",
    "from mubench.base.model import DNN\n",
    "from mubench.base.dataset import Dataset\n",
    "from mubench.base.args import Config\n",
    "from mubench.utils.scaler import StandardScaler\n",
    "import random\n",
    "np.random.seed(0)\n",
    "random.seed(0)\n",
    "\n",
    "logger = logging.getLogger(__name__)\n",
    "\n"
   ]
  },
  {
   "cell_type": "code",
   "execution_count": 2,
   "outputs": [],
   "source": [
    "config = Config()\n",
    "config.dataset_name = 'ESOL'\n",
    "config.data_dir = \"../data/files\"\n",
    "config.feature_type = \"rdkit\"\n",
    "config.data_dir = os.path.join(config.data_dir, config.dataset_name, f\"split-{config.dataset_splitting_random_seed}\")\n"
   ],
   "metadata": {
    "collapsed": false
   }
  },
  {
   "cell_type": "code",
   "execution_count": 3,
   "outputs": [],
   "source": [
    "dataset = Dataset().prepare(config, partition='train')"
   ],
   "metadata": {
    "collapsed": false
   }
  },
  {
   "cell_type": "code",
   "execution_count": 4,
   "outputs": [],
   "source": [
    "scalar = StandardScaler()"
   ],
   "metadata": {
    "collapsed": false
   }
  },
  {
   "cell_type": "code",
   "execution_count": 5,
   "outputs": [
    {
     "data": {
      "text/plain": "<mubench.utils.scaler.StandardScaler at 0x135b0e160>"
     },
     "execution_count": 5,
     "metadata": {},
     "output_type": "execute_result"
    }
   ],
   "source": [
    "scalar.fit(dataset.lbs)"
   ],
   "metadata": {
    "collapsed": false
   }
  },
  {
   "cell_type": "code",
   "execution_count": 8,
   "outputs": [
    {
     "data": {
      "text/plain": "<mubench.base.dataset.dataset.Dataset at 0x135a86550>"
     },
     "execution_count": 8,
     "metadata": {},
     "output_type": "execute_result"
    }
   ],
   "source": [
    "dataset.update_lbs(scalar.transform(dataset.lbs))"
   ],
   "metadata": {
    "collapsed": false
   }
  },
  {
   "cell_type": "code",
   "execution_count": 13,
   "outputs": [],
   "source": [
    "lbs = list()\n",
    "for inst in dataset.data_instances:\n",
    "    lb = inst.lbs\n",
    "    lbs.append(lb)"
   ],
   "metadata": {
    "collapsed": false
   }
  },
  {
   "cell_type": "code",
   "execution_count": 18,
   "outputs": [],
   "source": [
    "lb_insts = np.stack(lbs).astype(float)"
   ],
   "metadata": {
    "collapsed": false
   }
  },
  {
   "cell_type": "code",
   "execution_count": 19,
   "outputs": [
    {
     "data": {
      "text/plain": "-3.9387069609761654e-17"
     },
     "execution_count": 19,
     "metadata": {},
     "output_type": "execute_result"
    }
   ],
   "source": [
    "lb_insts.mean()"
   ],
   "metadata": {
    "collapsed": false
   }
  },
  {
   "cell_type": "code",
   "execution_count": 20,
   "outputs": [
    {
     "data": {
      "text/plain": "0.9999999999999998"
     },
     "execution_count": 20,
     "metadata": {},
     "output_type": "execute_result"
    }
   ],
   "source": [
    "lb_insts.std()"
   ],
   "metadata": {
    "collapsed": false
   }
  },
  {
   "cell_type": "code",
   "execution_count": 22,
   "outputs": [
    {
     "data": {
      "text/plain": "array([[False],\n       [False],\n       [False],\n       [False],\n       [False],\n       [False],\n       [False],\n       [False],\n       [False],\n       [False],\n       [False],\n       [False],\n       [False],\n       [False],\n       [False],\n       [False],\n       [False],\n       [False],\n       [False],\n       [False],\n       [False],\n       [False],\n       [False],\n       [False],\n       [False],\n       [False],\n       [False],\n       [False],\n       [False],\n       [False],\n       [False],\n       [False],\n       [False],\n       [False],\n       [False],\n       [False],\n       [False],\n       [False],\n       [False],\n       [False],\n       [False],\n       [False],\n       [False],\n       [False],\n       [False],\n       [False],\n       [False],\n       [False],\n       [False],\n       [False],\n       [False],\n       [False],\n       [False],\n       [False],\n       [False],\n       [False],\n       [False],\n       [False],\n       [False],\n       [False],\n       [False],\n       [False],\n       [False],\n       [False],\n       [False],\n       [False],\n       [False],\n       [False],\n       [False],\n       [False],\n       [False],\n       [False],\n       [False],\n       [False],\n       [False],\n       [False],\n       [False],\n       [False],\n       [False],\n       [False],\n       [False],\n       [False],\n       [False],\n       [False],\n       [False],\n       [False],\n       [False],\n       [False],\n       [False],\n       [False],\n       [False],\n       [False],\n       [False],\n       [False],\n       [False],\n       [False],\n       [False],\n       [False],\n       [False],\n       [False],\n       [False],\n       [False],\n       [False],\n       [False],\n       [False],\n       [False],\n       [False],\n       [False],\n       [False],\n       [False],\n       [False],\n       [False],\n       [False],\n       [False],\n       [False],\n       [False],\n       [False],\n       [False],\n       [False],\n       [False],\n       [False],\n       [False],\n       [False],\n       [False],\n       [False],\n       [False],\n       [False],\n       [False],\n       [False],\n       [False],\n       [False],\n       [False],\n       [False],\n       [False],\n       [False],\n       [False],\n       [False],\n       [False],\n       [False],\n       [False],\n       [False],\n       [False],\n       [False],\n       [False],\n       [False],\n       [False],\n       [False],\n       [False],\n       [False],\n       [False],\n       [False],\n       [False],\n       [False],\n       [False],\n       [False],\n       [False],\n       [False],\n       [False],\n       [False],\n       [False],\n       [False],\n       [False],\n       [False],\n       [False],\n       [False],\n       [False],\n       [False],\n       [False],\n       [False],\n       [False],\n       [False],\n       [False],\n       [False],\n       [False],\n       [False],\n       [False],\n       [False],\n       [False],\n       [False],\n       [False],\n       [False],\n       [False],\n       [False],\n       [False],\n       [False],\n       [False],\n       [False],\n       [False],\n       [False],\n       [False],\n       [False],\n       [False],\n       [False],\n       [False],\n       [False],\n       [False],\n       [False],\n       [False],\n       [False],\n       [False],\n       [False],\n       [False],\n       [False],\n       [False],\n       [False],\n       [False],\n       [False],\n       [False],\n       [False],\n       [False],\n       [False],\n       [False],\n       [False],\n       [False],\n       [False],\n       [False],\n       [False],\n       [False],\n       [False],\n       [False],\n       [False],\n       [False],\n       [False],\n       [False],\n       [False],\n       [False],\n       [False],\n       [False],\n       [False],\n       [False],\n       [False],\n       [False],\n       [False],\n       [False],\n       [False],\n       [False],\n       [False],\n       [False],\n       [False],\n       [False],\n       [False],\n       [False],\n       [False],\n       [False],\n       [False],\n       [False],\n       [False],\n       [False],\n       [False],\n       [False],\n       [False],\n       [False],\n       [False],\n       [False],\n       [False],\n       [False],\n       [False],\n       [False],\n       [False],\n       [False],\n       [False],\n       [False],\n       [False],\n       [False],\n       [False],\n       [False],\n       [False],\n       [False],\n       [False],\n       [False],\n       [False],\n       [False],\n       [False],\n       [False],\n       [False],\n       [False],\n       [False],\n       [False],\n       [False],\n       [False],\n       [False],\n       [False],\n       [False],\n       [False],\n       [False],\n       [False],\n       [False],\n       [False],\n       [False],\n       [False],\n       [False],\n       [False],\n       [False],\n       [False],\n       [False],\n       [False],\n       [False],\n       [False],\n       [False],\n       [False],\n       [False],\n       [False],\n       [False],\n       [False],\n       [False],\n       [False],\n       [False],\n       [False],\n       [False],\n       [False],\n       [False],\n       [False],\n       [False],\n       [False],\n       [False],\n       [False],\n       [False],\n       [False],\n       [False],\n       [False],\n       [False],\n       [False],\n       [False],\n       [False],\n       [False],\n       [False],\n       [False],\n       [False],\n       [False],\n       [False],\n       [False],\n       [False],\n       [False],\n       [False],\n       [False],\n       [False],\n       [False],\n       [False],\n       [False],\n       [False],\n       [False],\n       [False],\n       [False],\n       [False],\n       [False],\n       [False],\n       [False],\n       [False],\n       [False],\n       [False],\n       [False],\n       [False],\n       [False],\n       [False],\n       [False],\n       [False],\n       [False],\n       [False],\n       [False],\n       [False],\n       [False],\n       [False],\n       [False],\n       [False],\n       [False],\n       [False],\n       [False],\n       [False],\n       [False],\n       [False],\n       [False],\n       [False],\n       [False],\n       [False],\n       [False],\n       [False],\n       [False],\n       [False],\n       [False],\n       [False],\n       [False],\n       [False],\n       [False],\n       [False],\n       [False],\n       [False],\n       [False],\n       [False],\n       [False],\n       [False],\n       [False],\n       [False],\n       [False],\n       [False],\n       [False],\n       [False],\n       [False],\n       [False],\n       [False],\n       [False],\n       [False],\n       [False],\n       [False],\n       [False],\n       [False],\n       [False],\n       [False],\n       [False],\n       [False],\n       [False],\n       [False],\n       [False],\n       [False],\n       [False],\n       [False],\n       [False],\n       [False],\n       [False],\n       [False],\n       [False],\n       [False],\n       [False],\n       [False],\n       [False],\n       [False],\n       [False],\n       [False],\n       [False],\n       [False],\n       [False],\n       [False],\n       [False],\n       [False],\n       [False],\n       [False],\n       [False],\n       [False],\n       [False],\n       [False],\n       [False],\n       [False],\n       [False],\n       [False],\n       [False],\n       [False],\n       [False],\n       [False],\n       [False],\n       [False],\n       [False],\n       [False],\n       [False],\n       [False],\n       [False],\n       [False],\n       [False],\n       [False],\n       [False],\n       [False],\n       [False],\n       [False],\n       [False],\n       [False],\n       [False],\n       [False],\n       [False],\n       [False],\n       [False],\n       [False],\n       [False],\n       [False],\n       [False],\n       [False],\n       [False],\n       [False],\n       [False],\n       [False],\n       [False],\n       [False],\n       [False],\n       [False],\n       [False],\n       [False],\n       [False],\n       [False],\n       [False],\n       [False],\n       [False],\n       [False],\n       [False],\n       [False],\n       [False],\n       [False],\n       [False],\n       [False],\n       [False],\n       [False],\n       [False],\n       [False],\n       [False],\n       [False],\n       [False],\n       [False],\n       [False],\n       [False],\n       [False],\n       [False],\n       [False],\n       [False],\n       [False],\n       [False],\n       [False],\n       [False],\n       [False],\n       [False],\n       [False],\n       [False],\n       [False],\n       [False],\n       [False],\n       [False],\n       [False],\n       [False],\n       [False],\n       [False],\n       [False],\n       [False],\n       [False],\n       [False],\n       [False],\n       [False],\n       [False],\n       [False],\n       [False],\n       [False],\n       [False],\n       [False],\n       [False],\n       [False],\n       [False],\n       [False],\n       [False],\n       [False],\n       [False],\n       [False],\n       [False],\n       [False],\n       [False],\n       [False],\n       [False],\n       [False],\n       [False],\n       [False],\n       [False],\n       [False],\n       [False],\n       [False],\n       [False],\n       [False],\n       [False],\n       [False],\n       [False],\n       [False],\n       [False],\n       [False],\n       [False],\n       [False],\n       [False],\n       [False],\n       [False],\n       [False],\n       [False],\n       [False],\n       [False],\n       [False],\n       [False],\n       [False],\n       [False],\n       [False],\n       [False],\n       [False],\n       [False],\n       [False],\n       [False],\n       [False],\n       [False],\n       [False],\n       [False],\n       [False],\n       [False],\n       [False],\n       [False],\n       [False],\n       [False],\n       [False],\n       [False],\n       [False],\n       [False],\n       [False],\n       [False],\n       [False],\n       [False],\n       [False],\n       [False],\n       [False],\n       [False],\n       [False],\n       [False],\n       [False],\n       [False],\n       [False],\n       [False],\n       [False],\n       [False],\n       [False],\n       [False],\n       [False],\n       [False],\n       [False],\n       [False],\n       [False],\n       [False],\n       [False],\n       [False],\n       [False],\n       [False],\n       [False],\n       [False],\n       [False],\n       [False],\n       [False],\n       [False],\n       [False],\n       [False],\n       [False],\n       [False],\n       [False],\n       [False],\n       [False],\n       [False],\n       [False],\n       [False],\n       [False],\n       [False],\n       [False],\n       [False],\n       [False],\n       [False],\n       [False],\n       [False],\n       [False],\n       [False],\n       [False],\n       [False],\n       [False],\n       [False],\n       [False],\n       [False],\n       [False],\n       [False],\n       [False],\n       [False],\n       [False],\n       [False],\n       [False],\n       [False],\n       [False],\n       [False],\n       [False],\n       [False],\n       [False],\n       [False],\n       [False],\n       [False],\n       [False],\n       [False],\n       [False],\n       [False],\n       [False],\n       [False],\n       [False],\n       [False],\n       [False],\n       [False],\n       [False],\n       [False],\n       [False],\n       [False],\n       [False],\n       [False],\n       [False],\n       [False],\n       [False],\n       [False],\n       [False],\n       [False],\n       [False],\n       [False],\n       [False],\n       [False],\n       [False],\n       [False],\n       [False],\n       [False],\n       [False],\n       [False],\n       [False],\n       [False],\n       [False],\n       [False],\n       [False],\n       [False],\n       [False],\n       [False],\n       [False],\n       [False],\n       [False],\n       [False],\n       [False],\n       [False],\n       [False],\n       [False],\n       [False],\n       [False],\n       [False],\n       [False],\n       [False],\n       [False],\n       [False],\n       [False],\n       [False],\n       [False],\n       [False],\n       [False],\n       [False],\n       [False],\n       [False],\n       [False],\n       [False],\n       [False],\n       [False],\n       [False],\n       [False],\n       [False],\n       [False],\n       [False],\n       [False],\n       [False],\n       [False],\n       [False],\n       [False],\n       [False],\n       [False],\n       [False],\n       [False],\n       [False],\n       [False],\n       [False],\n       [False],\n       [False],\n       [False],\n       [False],\n       [False],\n       [False],\n       [False],\n       [False],\n       [False],\n       [False],\n       [False],\n       [False],\n       [False],\n       [False],\n       [False],\n       [False],\n       [False],\n       [False],\n       [False],\n       [False],\n       [False],\n       [False],\n       [False],\n       [False],\n       [False],\n       [False],\n       [False],\n       [False],\n       [False],\n       [False],\n       [False],\n       [False],\n       [False],\n       [False],\n       [False],\n       [False],\n       [False],\n       [False],\n       [False],\n       [False],\n       [False],\n       [False],\n       [False],\n       [False],\n       [False],\n       [False],\n       [False],\n       [False],\n       [False],\n       [False],\n       [False],\n       [False],\n       [False],\n       [False],\n       [False],\n       [False],\n       [False],\n       [False],\n       [False],\n       [False],\n       [False],\n       [False],\n       [False],\n       [False],\n       [False],\n       [False],\n       [False],\n       [False],\n       [False],\n       [False],\n       [False],\n       [False],\n       [False],\n       [False],\n       [False],\n       [False],\n       [False],\n       [False],\n       [False],\n       [False],\n       [False],\n       [False],\n       [False],\n       [False],\n       [False],\n       [False],\n       [False],\n       [False],\n       [False],\n       [False],\n       [False],\n       [False],\n       [False],\n       [False],\n       [False],\n       [False],\n       [False],\n       [False],\n       [False],\n       [False],\n       [False],\n       [False],\n       [False],\n       [False],\n       [False],\n       [False],\n       [False],\n       [False],\n       [False],\n       [False],\n       [False],\n       [False],\n       [False],\n       [False],\n       [False],\n       [False],\n       [False],\n       [False],\n       [False],\n       [False],\n       [False],\n       [False],\n       [False],\n       [False],\n       [False],\n       [False],\n       [False],\n       [False],\n       [False],\n       [False],\n       [False],\n       [False],\n       [False],\n       [False],\n       [False],\n       [False],\n       [False],\n       [False],\n       [False],\n       [False],\n       [False],\n       [False],\n       [False],\n       [False]])"
     },
     "execution_count": 22,
     "metadata": {},
     "output_type": "execute_result"
    }
   ],
   "source": [
    "~dataset.masks.astype(bool)"
   ],
   "metadata": {
    "collapsed": false
   }
  },
  {
   "cell_type": "code",
   "execution_count": 23,
   "outputs": [],
   "source": [
    "qwe = np.random.random([5,6])"
   ],
   "metadata": {
    "collapsed": false
   }
  },
  {
   "cell_type": "code",
   "execution_count": 25,
   "outputs": [
    {
     "data": {
      "text/plain": "array([[-1.8978385661671329, -1.548349074405276, -1.7845113495911256,\n        -1.906094606702397, -2.1607472081620878, -1.6939108314019224],\n       [-2.131480753937886, -1.1774171150673653, -1.0264053323615112,\n        -2.2452193110384755, -1.3875780790543544, -1.939679586597793],\n       [-1.8574417664365295, -1.106367109920066, -2.901458888426099,\n        -2.867653390974394, -3.008206575077746, -1.3016743592076492],\n       [-1.4160796519654553, -1.2231280083489116, -0.9949896054549008,\n        -1.3719631981911637, -2.081292850572806, -1.4110961302397202],\n       [-2.8022298724715644, -1.7064579206580048, -2.7495491623925252,\n        -1.0663038404557403, -1.9544816854026774, -2.179637627703497]],\n      dtype=object)"
     },
     "execution_count": 25,
     "metadata": {},
     "output_type": "execute_result"
    }
   ],
   "source": [
    "scalar.inverse_transform(qwe)"
   ],
   "metadata": {
    "collapsed": false
   }
  },
  {
   "cell_type": "code",
   "execution_count": null,
   "outputs": [],
   "source": [],
   "metadata": {
    "collapsed": false
   }
  }
 ],
 "metadata": {
  "kernelspec": {
   "display_name": "Python 3",
   "language": "python",
   "name": "python3"
  },
  "language_info": {
   "codemirror_mode": {
    "name": "ipython",
    "version": 2
   },
   "file_extension": ".py",
   "mimetype": "text/x-python",
   "name": "python",
   "nbconvert_exporter": "python",
   "pygments_lexer": "ipython2",
   "version": "2.7.6"
  }
 },
 "nbformat": 4,
 "nbformat_minor": 0
}
