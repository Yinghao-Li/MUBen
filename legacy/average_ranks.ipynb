{
 "cells": [
  {
   "cell_type": "code",
   "execution_count": 1,
   "metadata": {},
   "outputs": [],
   "source": [
    "import sys\n",
    "sys.path.append('../')\n",
    "\n",
    "\n",
    "import glob\n",
    "import logging\n",
    "import os.path as op\n",
    "import pandas as pd\n",
    "import numpy as np\n",
    "from dataclasses import dataclass, field\n",
    "from transformers import HfArgumentParser\n",
    "from typing import Optional\n",
    "from muben.utils.macro import (\n",
    "    MODEL_NAMES,\n",
    "    FINGERPRINT_FEATURE_TYPES,\n",
    "    QM_DATASET,\n",
    "    PC_DATASET,\n",
    "    BIO_DATASET,\n",
    "    PHY_DATASET,\n",
    "    CLASSIFICATION_METRICS,\n",
    "    REGRESSION_METRICS,\n",
    "    UncertaintyMethods,\n",
    "    metrics_mapping\n",
    ")\n",
    "from muben.utils.io import init_dir, set_logging\n",
    "\n",
    "logger = logging.getLogger(__name__)\n"
   ]
  },
  {
   "cell_type": "code",
   "execution_count": 2,
   "metadata": {},
   "outputs": [],
   "source": [
    "model_mapping = {\n",
    "    \"DNN-rdkit\": \"DNN\",\n",
    "    \"ChemBERTa\": \"ChemBERTa\",\n",
    "    \"GROVER\": \"GROVER\",\n",
    "    \"Uni-Mol\": \"Uni-Mol\",\n",
    "    \"TorchMD-NET\": \"TorchMD-NET\",\n",
    "    \"GIN\": \"GIN\",\n",
    "}\n",
    "CLASSIFICATION_UNCERTAINTY = [\n",
    "    \"none\",\n",
    "    \"TemperatureScaling\",\n",
    "    \"FocalLoss\",\n",
    "    \"MCDropout\",\n",
    "    \"SWAG\",\n",
    "    \"BBP\",\n",
    "    \"SGLD\",\n",
    "    \"DeepEnsembles\",\n",
    "]\n",
    "REGRESSION_UNCERTAINTY = [\"none\", \"MCDropout\", \"SWAG\", \"BBP\", \"SGLD\", \"DeepEnsembles\"]\n",
    "uncertainty_mapping = {\n",
    "    \"none\": \"Deterministic\",\n",
    "    \"TemperatureScaling\": \"Temperature\",\n",
    "    \"FocalLoss\": \"Focal Loss\",\n",
    "    \"MCDropout\": \"MC Dropout\",\n",
    "    \"SWAG\": \"SWAG\",\n",
    "    \"BBP\": \"BBP\",\n",
    "    \"SGLD\": \"SGLD\",\n",
    "    \"DeepEnsembles\": \"Ensembles\",\n",
    "}\n",
    "MODEL_NAMES = [\n",
    "    \"DNN-rdkit\",\n",
    "    \"ChemBERTa\",\n",
    "    \"GROVER\",\n",
    "    \"Uni-Mol\",\n",
    "]"
   ]
  },
  {
   "cell_type": "code",
   "execution_count": 3,
   "metadata": {},
   "outputs": [],
   "source": [
    "file_path = \"../output/random/RESULTS/ranks/mean_classification.csv\"\n",
    "df = pd.read_csv(file_path, index_col=0)\n",
    "df['backbone'] = df.index.map(lambda x: x.split('_')[0])\n",
    "df['uncertainty'] = df.index.map(lambda x: x.split('_')[1])\n",
    "unc_df = df.groupby('uncertainty').mean(numeric_only=True)\n",
    "\n",
    "mapped_metrics = [metrics_mapping[m] for m in CLASSIFICATION_METRICS]\n",
    "index_mapping = {unc: uncertainty_mapping[unc] for unc in CLASSIFICATION_UNCERTAINTY}\n",
    "unc_df = unc_df.rename(index=index_mapping, columns=metrics_mapping)\n",
    "unc_df = unc_df.reindex([index_mapping[unc] for unc in CLASSIFICATION_UNCERTAINTY])\n",
    "unc_df = unc_df[mapped_metrics]"
   ]
  },
  {
   "cell_type": "code",
   "execution_count": 4,
   "metadata": {},
   "outputs": [],
   "source": [
    "file_path = \"../output/random/RESULTS/ranks/mean_regression.csv\"\n",
    "df = pd.read_csv(file_path, index_col=0)\n",
    "df['backbone'] = df.index.map(lambda x: x.split('_')[0])\n",
    "df['uncertainty'] = df.index.map(lambda x: x.split('_')[1])\n",
    "unc_df_reg = df.groupby('uncertainty').mean(numeric_only=True)\n",
    "\n",
    "mapped_metrics = [metrics_mapping[m] for m in REGRESSION_METRICS]\n",
    "index_mapping = {unc: uncertainty_mapping[unc] for unc in REGRESSION_UNCERTAINTY}\n",
    "unc_df_reg = unc_df_reg.rename(index=index_mapping, columns=metrics_mapping)\n",
    "unc_df_reg = unc_df_reg.reindex([index_mapping[unc] for unc in REGRESSION_UNCERTAINTY])\n",
    "unc_df_reg = unc_df_reg[mapped_metrics]"
   ]
  },
  {
   "cell_type": "code",
   "execution_count": 5,
   "metadata": {},
   "outputs": [],
   "source": [
    "unc_df.merge(unc_df_reg, how='left', left_index=True, right_index=True).round(2).to_csv(\"ranks_unc_random.csv\")"
   ]
  },
  {
   "cell_type": "code",
   "execution_count": 8,
   "metadata": {},
   "outputs": [],
   "source": [
    "file_path = \"../output/random/RESULTS/mrrs/mrr_classification.csv\"\n",
    "df = pd.read_csv(file_path, index_col=0)\n",
    "df['backbone'] = df.index.map(lambda x: x.split('_')[0])\n",
    "df['uncertainty'] = df.index.map(lambda x: x.split('_')[1])\n",
    "unc_df = df.groupby('uncertainty').mean(numeric_only=True)\n",
    "\n",
    "mapped_metrics = [metrics_mapping[m] for m in CLASSIFICATION_METRICS]\n",
    "index_mapping = {unc: uncertainty_mapping[unc] for unc in CLASSIFICATION_UNCERTAINTY}\n",
    "unc_df = unc_df.rename(index=index_mapping, columns=metrics_mapping)\n",
    "unc_df = unc_df.reindex([index_mapping[unc] for unc in CLASSIFICATION_UNCERTAINTY])\n",
    "unc_df = unc_df[mapped_metrics]\n",
    "\n",
    "unc_df.round(2).to_csv(\"mrrs_unc_classification_random.csv\")"
   ]
  },
  {
   "cell_type": "code",
   "execution_count": 9,
   "metadata": {},
   "outputs": [],
   "source": [
    "\n",
    "file_path = \"../output/random/RESULTS/mrrs/mrr_regression.csv\"\n",
    "df = pd.read_csv(file_path, index_col=0)\n",
    "df['backbone'] = df.index.map(lambda x: x.split('_')[0])\n",
    "df['uncertainty'] = df.index.map(lambda x: x.split('_')[1])\n",
    "unc_df_reg = df.groupby('uncertainty').mean(numeric_only=True)\n",
    "\n",
    "mapped_metrics = [metrics_mapping[m] for m in REGRESSION_METRICS]\n",
    "index_mapping = {unc: uncertainty_mapping[unc] for unc in REGRESSION_UNCERTAINTY}\n",
    "unc_df_reg = unc_df_reg.rename(index=index_mapping, columns=metrics_mapping)\n",
    "unc_df_reg = unc_df_reg.reindex([index_mapping[unc] for unc in REGRESSION_UNCERTAINTY])\n",
    "unc_df_reg = unc_df_reg[mapped_metrics]\n",
    "\n",
    "unc_df_reg.round(2).to_csv(\"mrrs_unc_regression_random.csv\")"
   ]
  },
  {
   "cell_type": "code",
   "execution_count": 21,
   "metadata": {},
   "outputs": [],
   "source": [
    "\n",
    "file_path = \"../output/random/RESULTS/mrrs/mrr_classification.csv\"\n",
    "df = pd.read_csv(file_path, index_col=0)\n",
    "df['backbone'] = df.index.map(lambda x: x.split('_')[0])\n",
    "df['uncertainty'] = df.index.map(lambda x: x.split('_')[1])\n",
    "unc_df = df.groupby('backbone').mean(numeric_only=True)\n",
    "\n",
    "mapped_metrics = [metrics_mapping[m] for m in CLASSIFICATION_METRICS]\n",
    "index_mapping = {unc: uncertainty_mapping[unc] for unc in CLASSIFICATION_UNCERTAINTY}\n",
    "unc_df = unc_df.rename(index=index_mapping, columns=metrics_mapping)\n",
    "unc_df = unc_df.reindex(MODEL_NAMES)\n",
    "unc_df = unc_df[mapped_metrics]\n",
    "\n",
    "unc_df.round(2).to_csv(\"mrrs_backbone_classification_random.csv\")"
   ]
  },
  {
   "cell_type": "code",
   "execution_count": 23,
   "metadata": {},
   "outputs": [],
   "source": [
    "\n",
    "file_path = \"../output/random/RESULTS/mrrs/mrr_regression.csv\"\n",
    "df = pd.read_csv(file_path, index_col=0)\n",
    "df['backbone'] = df.index.map(lambda x: x.split('_')[0])\n",
    "df['uncertainty'] = df.index.map(lambda x: x.split('_')[1])\n",
    "unc_df_reg = df.groupby('backbone').mean(numeric_only=True)\n",
    "\n",
    "mapped_metrics = [metrics_mapping[m] for m in REGRESSION_METRICS]\n",
    "index_mapping = {unc: uncertainty_mapping[unc] for unc in REGRESSION_UNCERTAINTY}\n",
    "unc_df_reg = unc_df_reg.rename(index=index_mapping, columns=metrics_mapping)\n",
    "unc_df_reg = unc_df_reg.reindex(MODEL_NAMES)\n",
    "unc_df_reg = unc_df_reg[mapped_metrics]\n",
    "\n",
    "unc_df_reg.round(2).to_csv(\"mrrs_backbone_regression_random.csv\")"
   ]
  },
  {
   "cell_type": "code",
   "execution_count": null,
   "metadata": {},
   "outputs": [],
   "source": []
  }
 ],
 "metadata": {
  "kernelspec": {
   "display_name": "base",
   "language": "python",
   "name": "python3"
  },
  "language_info": {
   "codemirror_mode": {
    "name": "ipython",
    "version": 3
   },
   "file_extension": ".py",
   "mimetype": "text/x-python",
   "name": "python",
   "nbconvert_exporter": "python",
   "pygments_lexer": "ipython3",
   "version": "3.10.10"
  },
  "orig_nbformat": 4
 },
 "nbformat": 4,
 "nbformat_minor": 2
}
