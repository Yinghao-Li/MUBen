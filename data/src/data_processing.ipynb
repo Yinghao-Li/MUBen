{
 "cells": [
  {
   "cell_type": "code",
   "execution_count": 1,
   "metadata": {},
   "outputs": [],
   "source": [
    "import os\n",
    "import numpy as np\n",
    "import pandas as pd"
   ]
  },
  {
   "cell_type": "code",
   "execution_count": 23,
   "metadata": {},
   "outputs": [],
   "source": [
    "import torch\n",
    "from dgllife.data import (BBBP, Tox21)\n",
    "from dgllife.utils import (\n",
    "    SMILESToBigraph,\n",
    "    CanonicalAtomFeaturizer,\n",
    "    ScaffoldSplitter\n",
    ")"
   ]
  },
  {
   "cell_type": "code",
   "execution_count": 2,
   "metadata": {},
   "outputs": [
    {
     "name": "stdout",
     "output_type": "stream",
     "text": [
      "Processing dgl graphs from scratch...\n",
      "Invalid mol found\n",
      "Invalid mol found\n",
      "Invalid mol found\n",
      "Invalid mol found\n",
      "Invalid mol found\n",
      "Invalid mol found\n",
      "Invalid mol found\n",
      "Invalid mol found\n",
      "Invalid mol found\n",
      "Invalid mol found\n",
      "Invalid mol found\n",
      "Processing molecule 1000/2050\n",
      "Processing molecule 2000/2050\n"
     ]
    }
   ],
   "source": [
    "dataset = BBBP()"
   ]
  },
  {
   "cell_type": "code",
   "execution_count": 13,
   "metadata": {},
   "outputs": [],
   "source": [
    "splitter = ScaffoldSplitter()"
   ]
  },
  {
   "cell_type": "code",
   "execution_count": 15,
   "metadata": {},
   "outputs": [
    {
     "name": "stdout",
     "output_type": "stream",
     "text": [
      "Start initializing RDKit molecule instances...\n",
      "Creating RDKit molecule instance 1000/2039\n",
      "Creating RDKit molecule instance 2000/2039\n",
      "Start computing Bemis-Murcko scaffolds.\n",
      "Computing Bemis-Murcko for compound 1000/2039\n",
      "Computing Bemis-Murcko for compound 2000/2039\n"
     ]
    }
   ],
   "source": [
    "train, val, test = splitter.train_val_test_split(dataset)"
   ]
  },
  {
   "cell_type": "code",
   "execution_count": 19,
   "metadata": {},
   "outputs": [
    {
     "data": {
      "text/plain": [
       "dgl.data.utils.Subset"
      ]
     },
     "execution_count": 19,
     "metadata": {},
     "output_type": "execute_result"
    }
   ],
   "source": [
    "type(train)"
   ]
  },
  {
   "cell_type": "code",
   "execution_count": 22,
   "metadata": {},
   "outputs": [
    {
     "data": {
      "text/plain": [
       "tensor([[1.],\n",
       "        [1.],\n",
       "        [1.],\n",
       "        ...,\n",
       "        [1.],\n",
       "        [1.],\n",
       "        [1.]])"
      ]
     },
     "execution_count": 22,
     "metadata": {},
     "output_type": "execute_result"
    }
   ],
   "source": [
    "train.dataset.labels"
   ]
  },
  {
   "cell_type": "code",
   "execution_count": 24,
   "metadata": {},
   "outputs": [
    {
     "name": "stdout",
     "output_type": "stream",
     "text": [
      "Downloading /Users/yli/.dgl/tox21.csv.gz from https://data.dgl.ai/dataset/tox21.csv.gz...\n",
      "Processing dgl graphs from scratch...\n",
      "Processing molecule 1000/7831\n",
      "Processing molecule 2000/7831\n",
      "Processing molecule 3000/7831\n",
      "Processing molecule 4000/7831\n",
      "Processing molecule 5000/7831\n",
      "Processing molecule 6000/7831\n",
      "Processing molecule 7000/7831\n"
     ]
    }
   ],
   "source": [
    "dataset = Tox21()"
   ]
  },
  {
   "cell_type": "code",
   "execution_count": 29,
   "metadata": {},
   "outputs": [
    {
     "data": {
      "text/plain": [
       "('CCOc1ccc2nc(S(N)(=O)=O)sc2c1',\n",
       " Graph(num_nodes=16, num_edges=34,\n",
       "       ndata_schemes={}\n",
       "       edata_schemes={}),\n",
       " tensor([0., 0., 1., 0., 0., 0., 0., 1., 0., 0., 0., 0.]),\n",
       " tensor([1., 1., 1., 0., 0., 1., 1., 1., 1., 1., 1., 1.]))"
      ]
     },
     "execution_count": 29,
     "metadata": {},
     "output_type": "execute_result"
    }
   ],
   "source": [
    "dataset[0]"
   ]
  },
  {
   "cell_type": "code",
   "execution_count": null,
   "metadata": {},
   "outputs": [],
   "source": []
  }
 ],
 "metadata": {
  "kernelspec": {
   "display_name": "py39",
   "language": "python",
   "name": "python3"
  },
  "language_info": {
   "codemirror_mode": {
    "name": "ipython",
    "version": 3
   },
   "file_extension": ".py",
   "mimetype": "text/x-python",
   "name": "python",
   "nbconvert_exporter": "python",
   "pygments_lexer": "ipython3",
   "version": "3.9.6"
  },
  "orig_nbformat": 4
 },
 "nbformat": 4,
 "nbformat_minor": 2
}
